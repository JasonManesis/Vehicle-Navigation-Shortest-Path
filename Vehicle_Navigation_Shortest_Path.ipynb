{
  "nbformat": 4,
  "nbformat_minor": 0,
  "metadata": {
    "colab": {
      "name": "Vehicle_Navigation-Shortest_Path.ipynb",
      "provenance": [],
      "collapsed_sections": [],
      "mount_file_id": "103unhaid5NTquk2vVaEhzRrYFdc7e2Y5",
      "authorship_tag": "ABX9TyMX/LDLeVa2Av600ghtsFey",
      "include_colab_link": true
    },
    "kernelspec": {
      "name": "python3",
      "display_name": "Python 3"
    }
  },
  "cells": [
    {
      "cell_type": "markdown",
      "metadata": {
        "id": "view-in-github",
        "colab_type": "text"
      },
      "source": [
        "<a href=\"https://colab.research.google.com/github/JasonManesis/Vehicle-Navigation-Shortest-Path/blob/main/Vehicle_Navigation_Shortest_Path.ipynb\" target=\"_parent\"><img src=\"https://colab.research.google.com/assets/colab-badge.svg\" alt=\"Open In Colab\"/></a>"
      ]
    },
    {
      "cell_type": "code",
      "metadata": {
        "id": "-qsGXlxaBi60"
      },
      "source": [
        "!pip install osmnx==0.16.2"
      ],
      "execution_count": null,
      "outputs": []
    },
    {
      "cell_type": "code",
      "metadata": {
        "id": "3L6t9psKm8G-"
      },
      "source": [
        "!pip install contextily "
      ],
      "execution_count": null,
      "outputs": []
    },
    {
      "cell_type": "code",
      "metadata": {
        "id": "UqY7ppaQkPVO"
      },
      "source": [
        "#Import necessary libraries.\n",
        "import numpy as np\n",
        "import math\n",
        "import folium\n",
        "import contextily as ctx\n",
        "import shapely\n",
        "import osmnx as ox\n",
        "import geopandas as gpd\n",
        "from pyproj import Transformer\n",
        "from shapely.geometry import  Point, Polygon, LineString\n",
        "from matplotlib.ticker import FormatStrFormatter\n",
        "from matplotlib.patches import Circle\n",
        "from osgeo import ogr\n",
        "import matplotlib.pyplot as plt\n",
        "%matplotlib inline"
      ],
      "execution_count": 12,
      "outputs": []
    },
    {
      "cell_type": "code",
      "metadata": {
        "id": "jcTZqOEXUgQk"
      },
      "source": [
        "def pointreproject(point_x,point_y,inp_CRS,out_CRS):\n",
        "  \n",
        "  \"\"\"Converts from (latitude, longitude) to native map projection (x,y) coordinates and vice versa. \n",
        "\n",
        "    Args:\n",
        "        point_x: input CRS coordinate (x or latitude). \n",
        "        point_y: input CRS coordinate (y or longitude).\n",
        "        inp_CRS: reference system of input coordinates: 'epsg:4326','epsg:3857'...\n",
        "        out_CRS: reference system of output coordinates: 'epsg:4326','epsg:3857'...\n",
        "\n",
        "    Returns:\n",
        "        A tuple (latitude, longitude) or (x,y) of the reprojected coordinates of the input point in the output CRS.\n",
        "          \n",
        "  \"\"\"\n",
        "  transformer = Transformer.from_crs(inp_CRS, out_CRS)\n",
        "  out_x,out_y = transformer.transform(point_x, point_y)\n",
        "  transformer = []\n",
        "  \n",
        "  return out_x,out_y"
      ],
      "execution_count": 13,
      "outputs": []
    },
    {
      "cell_type": "code",
      "metadata": {
        "id": "Y341N91J18kn"
      },
      "source": [
        "def rgraphfrompoints(starting_point,ending_point):\n",
        "\n",
        "  \"\"\"Creates a graph, with edges (roads) and nodes (road intersections), based on the two given points.\n",
        "     The two given points must be in the WGS84 coordinate reference system and in the form of (latitude, longitude).  \n",
        "\n",
        "    Args:\n",
        "        starting_point: the route's starting point. -> A tuple of (latitude, longitude).\n",
        "        ending_point: the route's ending point. -> A tuple of (latitude, longitude).\n",
        "\n",
        "    Returns:\n",
        "        A reprojected (from EPSG:4326 to EPSG:3857) MultiDiGraph from the osmnx package.\n",
        "          \n",
        "  \"\"\"\n",
        "  #Input points geographical coordinates.  \n",
        "  lat1 = starting_point[0]\n",
        "  lat2 = ending_point[0]\n",
        "  long1 = starting_point[1]\n",
        "  long2 = ending_point[1]\n",
        "  \n",
        "  #Find the function's argument values.\n",
        "  north = lat2\n",
        "  south = lat1\n",
        "  if  lat1 > lat2:\n",
        "    north = lat1 \n",
        "    south = lat2\n",
        "\n",
        "  east = long2\n",
        "  west = long1\n",
        "  if  long1 > long2:\n",
        "    east = long1 \n",
        "    west = long2\n",
        "\n",
        "  #Construct the road graph.\n",
        "  roadgraph = ox.graph_from_bbox(north+0.01, south-0.01, east+0.01, west-0.01, network_type = 'drive', simplify=False )\n",
        "\n",
        "  #Reproject the road graph.\n",
        "  projected_roadgraph = ox.projection.project_graph(roadgraph, to_crs='epsg:3857')\n",
        "\n",
        "  return projected_roadgraph "
      ],
      "execution_count": 14,
      "outputs": []
    },
    {
      "cell_type": "code",
      "metadata": {
        "id": "U4NxiIXDwwu9"
      },
      "source": [
        "def nearest_edge_node_id(point,roadgraph):\n",
        "\n",
        "  \"\"\"Finds the nearest network's node id for the given point, which lies in the nearest network edge.\n",
        "     Input Point -> Nearest Edge Point -> Nearest Network Node (Route Starting/Ending Point).\n",
        "     The given point's coordinates must be in the EPSG:4326.  \n",
        "\n",
        "    Args:\n",
        "        point: The point:(latitude, longitude) that needs to be transfered to the nearest network node..\n",
        "        roadgraph: A reprojected (from EPSG:4326 to EPSG:3857) MultiDiGraph from the osmnx package.\n",
        "\n",
        "    Returns:\n",
        "        The nearest network's node id for the given point, which is in the nearest network edge. \n",
        "    \n",
        "  \"\"\"\n",
        "  #Reproject point coordinates from EPSG:4326 to the EPSG:3857.   \n",
        "  point_x, point_y = pointreproject(point[0], point[1],'epsg:4326','epsg:3857')\n",
        "\n",
        "  #Find the nearest road.\n",
        "  _, _, _, nearest_road = ox.distance.get_nearest_edge(roadgraph, (point_y,point_x), return_geom=True)\n",
        "  \n",
        "  #Find all point coordinates that are constructing the specific road.\n",
        "  nearest_road_coords = np.array(nearest_road.xy)\n",
        "\n",
        "  #Calculate all distances between the input point and all the points constructing the nearest road line.\n",
        "  e_distances = []\n",
        "  for i in range(0,nearest_road_coords[0].size):\n",
        "    e_dist = ox.distance.euclidean_dist_vec(point_y,point_x,nearest_road_coords[1][i],nearest_road_coords[0][i])\n",
        "    e_distances.append(e_dist)\n",
        "  mindist = min(e_distances)\n",
        "  for i in range(0,len(e_distances)):\n",
        "    if e_distances[i]==mindist: pos=i\n",
        "\n",
        "  #Nearest edge node coordinates.\n",
        "  nearest_edge_node_x = nearest_road_coords[0][pos]  \n",
        "  nearest_edge_node_y = nearest_road_coords[1][pos]  \n",
        "\n",
        "  #Find the nearest network's node id, which has the minimum distance from the road point that has the minimum distance from the input point.\n",
        "  node_id= ox.distance.get_nearest_node(roadgraph, (nearest_edge_node_y,nearest_edge_node_x),  method='euclidean')\n",
        "\n",
        "  return node_id"
      ],
      "execution_count": 15,
      "outputs": []
    },
    {
      "cell_type": "code",
      "metadata": {
        "id": "nasHOUfW_ylu"
      },
      "source": [
        "def pointreproject2edge(point,roadgraph):\n",
        "\n",
        "  \"\"\"\n",
        "    Finds the nearest network's edge for the given point, and reprojects it perpendicularly to its nearest edge.\n",
        "    If the orthogonal projection of the point lies outside the nearest edge's nodes, then the point isn't reprojected\n",
        "    but it is transferred to the nearest network node instead.\n",
        "\n",
        "     The given point's coordinates must be in the EPSG:4326, and following the form of (latitude, longitude).  \n",
        "\n",
        "    Args:\n",
        "        point: The point:(latitude, longitude) that needs to be projected to the nearest network edge.\n",
        "        roadgraph: A MultiDiGraph (EPSG:3857) from the osmnx package.\n",
        "\n",
        "    Returns:\n",
        "        A tuple (latitude, longitude) of the reprojected coordinates of the input point.\n",
        "    \n",
        "  \"\"\"\n",
        "\n",
        "  #Reproject point coordinates from EPSG:4326 to the EPSG:3857.   \n",
        "  point_x, point_y = pointreproject(point[0], point[1],'epsg:4326','epsg:3857')\n",
        "\n",
        "  #Find the nearest road.\n",
        "  _, _, _, nearest_road, dist__pp = ox.distance.get_nearest_edge(roadgraph, (point_y,point_x), return_geom=True, return_dist=True)\n",
        "\n",
        "  #Extract the nearest road coordinates.\n",
        "  nearest_road_coords = np.array(nearest_road.xy)\n",
        "\n",
        "  #Calculate the euclidean distance between the input point and the nearest edge's first node.\n",
        "  dist__pv = ox.distance.euclidean_dist_vec(point_y,point_x,nearest_road_coords[1][0],nearest_road_coords[0][0])\n",
        "\n",
        "  #Calculate the hypotenuse.\n",
        "  dist = np.sqrt(dist__pv**2-dist__pp**2)\n",
        "\n",
        "  #Create the corresponding circle.\n",
        "  circle = Point(nearest_road_coords[0][0], nearest_road_coords[1][0]).buffer(dist).boundary\n",
        "\n",
        "  #Find the circle's intersection point with the given edge.\n",
        "  intersection_points = circle.intersection(nearest_road)\n",
        "  \n",
        "  lies_in = False\n",
        "\n",
        "  #If the orthogonal projection of the point lies inside the nearest edge's nodes.\n",
        "  if type(intersection_points) == shapely.geometry.point.Point:\n",
        "    lies_in = True\n",
        "    intersection_point_x = intersection_points.x\n",
        "    intersection_point_y = intersection_points.y\n",
        " \n",
        "  #If the orthogonal projection of the point lies outside the nearest edge's nodes.\n",
        "  else:\n",
        "    gdf = ox.utils_graph.graph_to_gdfs(roadgraph)\n",
        "    nodes_gdf = gdf[0].reset_index(drop=True) \n",
        "    nearest_node_id = nearest_edge_node_id(point,roadgraph)\n",
        "    intersection_point_x = nodes_gdf.loc[(nodes_gdf['osmid']==nearest_node_id)].x.values[0]\n",
        "    intersection_point_y = nodes_gdf.loc[(nodes_gdf['osmid']==nearest_node_id)].y.values[0]\n",
        "\n",
        "  #Find the nearest node id from the intersection point.\n",
        "  node_id = ox.distance.get_nearest_node(roadgraph, (intersection_point_y,intersection_point_x),  method='euclidean')\n",
        "\n",
        "  #Reproject the calculated grid point from epsg:3857 to epsg:4326.\n",
        "  point_lat, point_long = pointreproject(intersection_point_x, intersection_point_y,'epsg:3857','epsg:4326')\n",
        "\n",
        "  return point_lat, point_long, lies_in"
      ],
      "execution_count": 16,
      "outputs": []
    },
    {
      "cell_type": "code",
      "metadata": {
        "id": "cl0gSA_qqSOB"
      },
      "source": [
        "def routeplot(starting_point,ending_point):\n",
        "\n",
        "  \"\"\"\n",
        "     Finds and plots the sortest route -based on Dijkstra's pathfinding algorithm- between the \n",
        "     two given points in the given roadgraph.The given points coordinates must be in the EPSG:4326 \n",
        "     and they must be following the form of (latitude, longitude). \n",
        "\n",
        "    Args:\n",
        "        starting_point: the route's starting point. -> A tuple of (latitude, longitude).\n",
        "        ending_point: the route's ending point. -> A tuple of (latitude, longitude).\n",
        "\n",
        "    Returns:\n",
        "        A Folium map with the given starting and ending points and the shortest path between them. \n",
        "    \n",
        "  \"\"\"\n",
        "\n",
        "  #Calculate the roadgraph between the starting and ending points.\n",
        "  roadgraph = rgraphfrompoints(starting_point,ending_point)\n",
        "\n",
        "  #Find the routes starting end ending point which lies inside the given roadgraph.\n",
        "  p_lat1,p_long1,lies_in1 = pointreproject2edge(starting_point,roadgraph)\n",
        "  p_lat2,p_long2,lies_in2 = pointreproject2edge(ending_point,roadgraph)\n",
        "\n",
        "  #Find the nearest edge node id.\n",
        "  node1_id = nearest_edge_node_id(starting_point,roadgraph)\n",
        "  node2_id = nearest_edge_node_id(ending_point,roadgraph)\n",
        "  \n",
        "  #Calculate the sortest path between the two given nodes.\n",
        "  nodeids = ox.shortest_path(roadgraph, node1_id, node2_id)\n",
        "\n",
        "  #Create the necessary geodataframes.\n",
        "  gdf = ox.utils_graph.graph_to_gdfs(roadgraph)\n",
        "  nodes_gdf = gdf[0].reset_index(drop=True) \n",
        "\n",
        "  #Map's center point.\n",
        "  center_lat = (starting_point[0]+ending_point[0])/2\n",
        "  center_long = (starting_point[1]+ending_point[1])/2\n",
        "  center = [center_lat,center_long]\n",
        "\n",
        "  #Define the map.\n",
        "  m = folium.Map(location=center, zoom_start=13, crs='EPSG3857')\n",
        "\n",
        "  #Plot Original points.\n",
        "  folium.Marker((starting_point[0], starting_point[1]), \n",
        "                 popup=\"Original Starting Point\", tooltip=\"Original Starting Point\", \n",
        "                 icon=folium.Icon(color='pink', icon=\"fas fa-car\", prefix='fa')).add_to(m);\n",
        "\n",
        "  folium.Marker((ending_point[0], ending_point[1]), \n",
        "                 popup=\"Original Destination\", tooltip=\"Original Destination\", \n",
        "                 icon=folium.Icon(color='pink', icon=\"fas fa-crosshairs\", prefix='fa')).add_to(m);\n",
        "\n",
        "  #Plot Starting and Destination points.\n",
        "  folium.Marker((p_lat1,p_long1), \n",
        "                popup=\"Starting Point\", tooltip=\"Starting Point\", \n",
        "                icon=folium.Icon(color='darkblue', icon=\"fas fa-car\", prefix='fa')).add_to(m);\n",
        "\n",
        "  folium.Marker((p_lat2,p_long2), \n",
        "                popup=\"Destination\", tooltip=\"Destination\", \n",
        "                icon=folium.Icon(color='darkblue', icon=\"fas fa-crosshairs\", prefix='fa')).add_to(m);\n",
        "\n",
        "  #Create a list of tuples (locations) for each of route's node coordinates.\n",
        "  locations = []\n",
        "  locations.append((p_lat1,p_long1)) #Add the starting point to the route.\n",
        "  for node_id in nodeids:\n",
        "    p_lat = nodes_gdf.loc[(nodes_gdf['osmid']==node_id)].lat.values[0]\n",
        "    p_long = nodes_gdf.loc[(nodes_gdf['osmid']==node_id)].lon.values[0]\n",
        "    locations.append((p_lat,p_long))\n",
        "  locations.append((p_lat2,p_long2)) #Add the ending point to the route.\n",
        "\n",
        "  #Cut the final route segment if the starting point lies in it.\n",
        "  if lies_in1: \n",
        "    r1 = pointreproject(locations[1][0],locations[1][1],'epsg:4326','epsg:3857')\n",
        "    r2 = pointreproject(locations[2][0],locations[2][1],'epsg:4326','epsg:3857')\n",
        "    road1 = LineString([r1,r2])\n",
        "    point1_x, point1_y = pointreproject(p_lat1,p_long1,'epsg:4326','epsg:3857')\n",
        "    point1 = Point(point1_x, point1_y)\n",
        "    if road1.distance(point1) < 1e-8 :del locations[1] \n",
        "\n",
        "  #Cut the final route segment if the ending point lies in it.\n",
        "  if lies_in2: \n",
        "    r3 = pointreproject(locations[-3][0],locations[-3][1],'epsg:4326','epsg:3857')\n",
        "    r4 = pointreproject(locations[-2][0],locations[-2][1],'epsg:4326','epsg:3857')\n",
        "    road2 = LineString([r3,r4])\n",
        "    point2_x, point2_y = pointreproject(p_lat2,p_long2,'epsg:4326','epsg:3857')\n",
        "    point2 = Point(point2_x, point2_y)\n",
        "    if road2.distance(point2) < 1e-8 :del locations[-2] \n",
        "\n",
        "\n",
        "  #Create a folium polyline from the list of \"locations\".\n",
        "  route = folium.PolyLine(locations=locations,tooltip='Route', smooth_factor=0.3, color=\"purple\", weight=2.5, opacity=1)\n",
        "\n",
        "  #Plot route.\n",
        "  route.add_to(m);\n",
        "\n",
        "  #Save map to html file.\n",
        "  m.save('route.html') #saves the .html file in the local directory.\n",
        "\n",
        "  #Plot map.\n",
        "  return m"
      ],
      "execution_count": 17,
      "outputs": []
    },
    {
      "cell_type": "code",
      "metadata": {
        "id": "n7xncNpQ5ORC"
      },
      "source": [
        "#Random points to WGS84 between latitude of 37.9000-38.0000 degrees and longitude of 23.7000-23.8000 degrees. (Athens, Attiki, Greece)\n",
        "starting_point = (round(37.9+np.random.random()/10,4),round(23.7+np.random.random()/10,4))\n",
        "ending_point = (round(37.9+np.random.random()/10,4),round(23.7+np.random.random()/10,4))"
      ],
      "execution_count": 18,
      "outputs": []
    },
    {
      "cell_type": "code",
      "metadata": {
        "colab": {
          "base_uri": "https://localhost:8080/",
          "height": 992
        },
        "id": "HsiG163d4Oxh",
        "outputId": "34b383f9-1319-43bc-d834-08601f0efe7f"
      },
      "source": [
        "#Plot the route between starting and ending point.\n",
        "routeplot(starting_point,ending_point)"
      ],
      "execution_count": 19,
      "outputs": [
        {
          "output_type": "execute_result",
          "data": {
            "text/html": [
              "<div style=\"width:100%;\"><div style=\"position:relative;width:100%;height:0;padding-bottom:60%;\"><span style=\"color:#565656\">Make this Notebook Trusted to load map: File -> Trust Notebook</span><iframe src=\"about:blank\" style=\"position:absolute;width:100%;height:100%;left:0;top:0;border:none !important;\" data-html=%3C%21DOCTYPE%20html%3E%0A%3Chead%3E%20%20%20%20%0A%20%20%20%20%3Cmeta%20http-equiv%3D%22content-type%22%20content%3D%22text/html%3B%20charset%3DUTF-8%22%20/%3E%0A%20%20%20%20%3Cscript%3EL_PREFER_CANVAS%3Dfalse%3B%20L_NO_TOUCH%3Dfalse%3B%20L_DISABLE_3D%3Dfalse%3B%3C/script%3E%0A%20%20%20%20%3Cscript%20src%3D%22https%3A//cdn.jsdelivr.net/npm/leaflet%401.4.0/dist/leaflet.js%22%3E%3C/script%3E%0A%20%20%20%20%3Cscript%20src%3D%22https%3A//code.jquery.com/jquery-1.12.4.min.js%22%3E%3C/script%3E%0A%20%20%20%20%3Cscript%20src%3D%22https%3A//maxcdn.bootstrapcdn.com/bootstrap/3.2.0/js/bootstrap.min.js%22%3E%3C/script%3E%0A%20%20%20%20%3Cscript%20src%3D%22https%3A//cdnjs.cloudflare.com/ajax/libs/Leaflet.awesome-markers/2.0.2/leaflet.awesome-markers.js%22%3E%3C/script%3E%0A%20%20%20%20%3Clink%20rel%3D%22stylesheet%22%20href%3D%22https%3A//cdn.jsdelivr.net/npm/leaflet%401.4.0/dist/leaflet.css%22/%3E%0A%20%20%20%20%3Clink%20rel%3D%22stylesheet%22%20href%3D%22https%3A//maxcdn.bootstrapcdn.com/bootstrap/3.2.0/css/bootstrap.min.css%22/%3E%0A%20%20%20%20%3Clink%20rel%3D%22stylesheet%22%20href%3D%22https%3A//maxcdn.bootstrapcdn.com/bootstrap/3.2.0/css/bootstrap-theme.min.css%22/%3E%0A%20%20%20%20%3Clink%20rel%3D%22stylesheet%22%20href%3D%22https%3A//maxcdn.bootstrapcdn.com/font-awesome/4.6.3/css/font-awesome.min.css%22/%3E%0A%20%20%20%20%3Clink%20rel%3D%22stylesheet%22%20href%3D%22https%3A//cdnjs.cloudflare.com/ajax/libs/Leaflet.awesome-markers/2.0.2/leaflet.awesome-markers.css%22/%3E%0A%20%20%20%20%3Clink%20rel%3D%22stylesheet%22%20href%3D%22https%3A//rawcdn.githack.com/python-visualization/folium/master/folium/templates/leaflet.awesome.rotate.css%22/%3E%0A%20%20%20%20%3Cstyle%3Ehtml%2C%20body%20%7Bwidth%3A%20100%25%3Bheight%3A%20100%25%3Bmargin%3A%200%3Bpadding%3A%200%3B%7D%3C/style%3E%0A%20%20%20%20%3Cstyle%3E%23map%20%7Bposition%3Aabsolute%3Btop%3A0%3Bbottom%3A0%3Bright%3A0%3Bleft%3A0%3B%7D%3C/style%3E%0A%20%20%20%20%0A%20%20%20%20%3Cmeta%20name%3D%22viewport%22%20content%3D%22width%3Ddevice-width%2C%0A%20%20%20%20%20%20%20%20initial-scale%3D1.0%2C%20maximum-scale%3D1.0%2C%20user-scalable%3Dno%22%20/%3E%0A%20%20%20%20%3Cstyle%3E%23map_a15f911063284abebb7abad311ac9c5e%20%7B%0A%20%20%20%20%20%20%20%20position%3A%20relative%3B%0A%20%20%20%20%20%20%20%20width%3A%20100.0%25%3B%0A%20%20%20%20%20%20%20%20height%3A%20100.0%25%3B%0A%20%20%20%20%20%20%20%20left%3A%200.0%25%3B%0A%20%20%20%20%20%20%20%20top%3A%200.0%25%3B%0A%20%20%20%20%20%20%20%20%7D%0A%20%20%20%20%3C/style%3E%0A%3C/head%3E%0A%3Cbody%3E%20%20%20%20%0A%20%20%20%20%0A%20%20%20%20%3Cdiv%20class%3D%22folium-map%22%20id%3D%22map_a15f911063284abebb7abad311ac9c5e%22%20%3E%3C/div%3E%0A%3C/body%3E%0A%3Cscript%3E%20%20%20%20%0A%20%20%20%20%0A%20%20%20%20%0A%20%20%20%20%20%20%20%20var%20bounds%20%3D%20null%3B%0A%20%20%20%20%0A%0A%20%20%20%20var%20map_a15f911063284abebb7abad311ac9c5e%20%3D%20L.map%28%0A%20%20%20%20%20%20%20%20%27map_a15f911063284abebb7abad311ac9c5e%27%2C%20%7B%0A%20%20%20%20%20%20%20%20center%3A%20%5B37.92555%2C%2023.7429%5D%2C%0A%20%20%20%20%20%20%20%20zoom%3A%2013%2C%0A%20%20%20%20%20%20%20%20maxBounds%3A%20bounds%2C%0A%20%20%20%20%20%20%20%20layers%3A%20%5B%5D%2C%0A%20%20%20%20%20%20%20%20worldCopyJump%3A%20false%2C%0A%20%20%20%20%20%20%20%20crs%3A%20L.CRS.EPSG3857%2C%0A%20%20%20%20%20%20%20%20zoomControl%3A%20true%2C%0A%20%20%20%20%20%20%20%20%7D%29%3B%0A%0A%0A%20%20%20%20%0A%20%20%20%20var%20tile_layer_90ad3df6def54f67875387f8edf4cccf%20%3D%20L.tileLayer%28%0A%20%20%20%20%20%20%20%20%27https%3A//%7Bs%7D.tile.openstreetmap.org/%7Bz%7D/%7Bx%7D/%7By%7D.png%27%2C%0A%20%20%20%20%20%20%20%20%7B%0A%20%20%20%20%20%20%20%20%22attribution%22%3A%20null%2C%0A%20%20%20%20%20%20%20%20%22detectRetina%22%3A%20false%2C%0A%20%20%20%20%20%20%20%20%22maxNativeZoom%22%3A%2018%2C%0A%20%20%20%20%20%20%20%20%22maxZoom%22%3A%2018%2C%0A%20%20%20%20%20%20%20%20%22minZoom%22%3A%200%2C%0A%20%20%20%20%20%20%20%20%22noWrap%22%3A%20false%2C%0A%20%20%20%20%20%20%20%20%22opacity%22%3A%201%2C%0A%20%20%20%20%20%20%20%20%22subdomains%22%3A%20%22abc%22%2C%0A%20%20%20%20%20%20%20%20%22tms%22%3A%20false%0A%7D%29.addTo%28map_a15f911063284abebb7abad311ac9c5e%29%3B%0A%20%20%20%20%0A%20%20%20%20%20%20%20%20var%20marker_5c690c85ef5548e8a2b2affb2050777a%20%3D%20L.marker%28%0A%20%20%20%20%20%20%20%20%20%20%20%20%5B37.9028%2C%2023.7742%5D%2C%0A%20%20%20%20%20%20%20%20%20%20%20%20%7B%0A%20%20%20%20%20%20%20%20%20%20%20%20%20%20%20%20icon%3A%20new%20L.Icon.Default%28%29%2C%0A%20%20%20%20%20%20%20%20%20%20%20%20%20%20%20%20%7D%0A%20%20%20%20%20%20%20%20%20%20%20%20%29.addTo%28map_a15f911063284abebb7abad311ac9c5e%29%3B%0A%20%20%20%20%20%20%20%20%0A%20%20%20%20%0A%0A%20%20%20%20%20%20%20%20%20%20%20%20%20%20%20%20var%20icon_8289bde0eb21411093a60dd3c54b2f11%20%3D%20L.AwesomeMarkers.icon%28%7B%0A%20%20%20%20%20%20%20%20%20%20%20%20%20%20%20%20%20%20%20%20icon%3A%20%27fas%20fa-car%27%2C%0A%20%20%20%20%20%20%20%20%20%20%20%20%20%20%20%20%20%20%20%20iconColor%3A%20%27white%27%2C%0A%20%20%20%20%20%20%20%20%20%20%20%20%20%20%20%20%20%20%20%20markerColor%3A%20%27pink%27%2C%0A%20%20%20%20%20%20%20%20%20%20%20%20%20%20%20%20%20%20%20%20prefix%3A%20%27fa%27%2C%0A%20%20%20%20%20%20%20%20%20%20%20%20%20%20%20%20%20%20%20%20extraClasses%3A%20%27fa-rotate-0%27%0A%20%20%20%20%20%20%20%20%20%20%20%20%20%20%20%20%20%20%20%20%7D%29%3B%0A%20%20%20%20%20%20%20%20%20%20%20%20%20%20%20%20marker_5c690c85ef5548e8a2b2affb2050777a.setIcon%28icon_8289bde0eb21411093a60dd3c54b2f11%29%3B%0A%20%20%20%20%20%20%20%20%20%20%20%20%0A%20%20%20%20%0A%20%20%20%20%20%20%20%20%20%20%20%20var%20popup_d4805f90876049dfa8b9a200524ae98f%20%3D%20L.popup%28%7BmaxWidth%3A%20%27100%25%27%0A%20%20%20%20%20%20%20%20%20%20%20%20%0A%20%20%20%20%20%20%20%20%20%20%20%20%7D%29%3B%0A%0A%20%20%20%20%20%20%20%20%20%20%20%20%0A%20%20%20%20%20%20%20%20%20%20%20%20%20%20%20%20var%20html_f2906cfb1b7449d7b820d91feb2a4d6b%20%3D%20%24%28%60%3Cdiv%20id%3D%22html_f2906cfb1b7449d7b820d91feb2a4d6b%22%20style%3D%22width%3A%20100.0%25%3B%20height%3A%20100.0%25%3B%22%3EOriginal%20Starting%20Point%3C/div%3E%60%29%5B0%5D%3B%0A%20%20%20%20%20%20%20%20%20%20%20%20%20%20%20%20popup_d4805f90876049dfa8b9a200524ae98f.setContent%28html_f2906cfb1b7449d7b820d91feb2a4d6b%29%3B%0A%20%20%20%20%20%20%20%20%20%20%20%20%0A%0A%20%20%20%20%20%20%20%20%20%20%20%20marker_5c690c85ef5548e8a2b2affb2050777a.bindPopup%28popup_d4805f90876049dfa8b9a200524ae98f%29%0A%20%20%20%20%20%20%20%20%20%20%20%20%3B%0A%0A%20%20%20%20%20%20%20%20%20%20%20%20%0A%20%20%20%20%20%20%20%20%0A%20%20%20%20%0A%20%20%20%20%20%20%20%20marker_5c690c85ef5548e8a2b2affb2050777a.bindTooltip%28%0A%20%20%20%20%20%20%20%20%20%20%20%20%60%3Cdiv%3E%60%0A%20%20%20%20%20%20%20%20%20%20%20%20%2B%20%60Original%20Starting%20Point%60%20%2B%20%60%3C/div%3E%60%2C%0A%20%20%20%20%20%20%20%20%20%20%20%20%7B%22sticky%22%3A%20true%7D%0A%20%20%20%20%20%20%20%20%29%3B%0A%20%20%20%20%20%20%20%20%0A%20%20%20%20%0A%20%20%20%20%20%20%20%20var%20marker_d67bc30c78724cb39012976968b5621d%20%3D%20L.marker%28%0A%20%20%20%20%20%20%20%20%20%20%20%20%5B37.9483%2C%2023.7116%5D%2C%0A%20%20%20%20%20%20%20%20%20%20%20%20%7B%0A%20%20%20%20%20%20%20%20%20%20%20%20%20%20%20%20icon%3A%20new%20L.Icon.Default%28%29%2C%0A%20%20%20%20%20%20%20%20%20%20%20%20%20%20%20%20%7D%0A%20%20%20%20%20%20%20%20%20%20%20%20%29.addTo%28map_a15f911063284abebb7abad311ac9c5e%29%3B%0A%20%20%20%20%20%20%20%20%0A%20%20%20%20%0A%0A%20%20%20%20%20%20%20%20%20%20%20%20%20%20%20%20var%20icon_54320e0f5b66481eb57511f7a8566d0c%20%3D%20L.AwesomeMarkers.icon%28%7B%0A%20%20%20%20%20%20%20%20%20%20%20%20%20%20%20%20%20%20%20%20icon%3A%20%27fas%20fa-crosshairs%27%2C%0A%20%20%20%20%20%20%20%20%20%20%20%20%20%20%20%20%20%20%20%20iconColor%3A%20%27white%27%2C%0A%20%20%20%20%20%20%20%20%20%20%20%20%20%20%20%20%20%20%20%20markerColor%3A%20%27pink%27%2C%0A%20%20%20%20%20%20%20%20%20%20%20%20%20%20%20%20%20%20%20%20prefix%3A%20%27fa%27%2C%0A%20%20%20%20%20%20%20%20%20%20%20%20%20%20%20%20%20%20%20%20extraClasses%3A%20%27fa-rotate-0%27%0A%20%20%20%20%20%20%20%20%20%20%20%20%20%20%20%20%20%20%20%20%7D%29%3B%0A%20%20%20%20%20%20%20%20%20%20%20%20%20%20%20%20marker_d67bc30c78724cb39012976968b5621d.setIcon%28icon_54320e0f5b66481eb57511f7a8566d0c%29%3B%0A%20%20%20%20%20%20%20%20%20%20%20%20%0A%20%20%20%20%0A%20%20%20%20%20%20%20%20%20%20%20%20var%20popup_78d5a9377e5742009865cfb4102656df%20%3D%20L.popup%28%7BmaxWidth%3A%20%27100%25%27%0A%20%20%20%20%20%20%20%20%20%20%20%20%0A%20%20%20%20%20%20%20%20%20%20%20%20%7D%29%3B%0A%0A%20%20%20%20%20%20%20%20%20%20%20%20%0A%20%20%20%20%20%20%20%20%20%20%20%20%20%20%20%20var%20html_d68a747ccf85425f9aa655adf77e3ca9%20%3D%20%24%28%60%3Cdiv%20id%3D%22html_d68a747ccf85425f9aa655adf77e3ca9%22%20style%3D%22width%3A%20100.0%25%3B%20height%3A%20100.0%25%3B%22%3EOriginal%20Destination%3C/div%3E%60%29%5B0%5D%3B%0A%20%20%20%20%20%20%20%20%20%20%20%20%20%20%20%20popup_78d5a9377e5742009865cfb4102656df.setContent%28html_d68a747ccf85425f9aa655adf77e3ca9%29%3B%0A%20%20%20%20%20%20%20%20%20%20%20%20%0A%0A%20%20%20%20%20%20%20%20%20%20%20%20marker_d67bc30c78724cb39012976968b5621d.bindPopup%28popup_78d5a9377e5742009865cfb4102656df%29%0A%20%20%20%20%20%20%20%20%20%20%20%20%3B%0A%0A%20%20%20%20%20%20%20%20%20%20%20%20%0A%20%20%20%20%20%20%20%20%0A%20%20%20%20%0A%20%20%20%20%20%20%20%20marker_d67bc30c78724cb39012976968b5621d.bindTooltip%28%0A%20%20%20%20%20%20%20%20%20%20%20%20%60%3Cdiv%3E%60%0A%20%20%20%20%20%20%20%20%20%20%20%20%2B%20%60Original%20Destination%60%20%2B%20%60%3C/div%3E%60%2C%0A%20%20%20%20%20%20%20%20%20%20%20%20%7B%22sticky%22%3A%20true%7D%0A%20%20%20%20%20%20%20%20%29%3B%0A%20%20%20%20%20%20%20%20%0A%20%20%20%20%0A%20%20%20%20%20%20%20%20var%20marker_e72f1cbe4dfe498aadf6b57618cf52db%20%3D%20L.marker%28%0A%20%20%20%20%20%20%20%20%20%20%20%20%5B37.90281818593238%2C%2023.774178559545103%5D%2C%0A%20%20%20%20%20%20%20%20%20%20%20%20%7B%0A%20%20%20%20%20%20%20%20%20%20%20%20%20%20%20%20icon%3A%20new%20L.Icon.Default%28%29%2C%0A%20%20%20%20%20%20%20%20%20%20%20%20%20%20%20%20%7D%0A%20%20%20%20%20%20%20%20%20%20%20%20%29.addTo%28map_a15f911063284abebb7abad311ac9c5e%29%3B%0A%20%20%20%20%20%20%20%20%0A%20%20%20%20%0A%0A%20%20%20%20%20%20%20%20%20%20%20%20%20%20%20%20var%20icon_bd2ee44317c04aad83b8cbdca75e109a%20%3D%20L.AwesomeMarkers.icon%28%7B%0A%20%20%20%20%20%20%20%20%20%20%20%20%20%20%20%20%20%20%20%20icon%3A%20%27fas%20fa-car%27%2C%0A%20%20%20%20%20%20%20%20%20%20%20%20%20%20%20%20%20%20%20%20iconColor%3A%20%27white%27%2C%0A%20%20%20%20%20%20%20%20%20%20%20%20%20%20%20%20%20%20%20%20markerColor%3A%20%27darkblue%27%2C%0A%20%20%20%20%20%20%20%20%20%20%20%20%20%20%20%20%20%20%20%20prefix%3A%20%27fa%27%2C%0A%20%20%20%20%20%20%20%20%20%20%20%20%20%20%20%20%20%20%20%20extraClasses%3A%20%27fa-rotate-0%27%0A%20%20%20%20%20%20%20%20%20%20%20%20%20%20%20%20%20%20%20%20%7D%29%3B%0A%20%20%20%20%20%20%20%20%20%20%20%20%20%20%20%20marker_e72f1cbe4dfe498aadf6b57618cf52db.setIcon%28icon_bd2ee44317c04aad83b8cbdca75e109a%29%3B%0A%20%20%20%20%20%20%20%20%20%20%20%20%0A%20%20%20%20%0A%20%20%20%20%20%20%20%20%20%20%20%20var%20popup_0539d49708a644b89ee1f67eccf195d6%20%3D%20L.popup%28%7BmaxWidth%3A%20%27100%25%27%0A%20%20%20%20%20%20%20%20%20%20%20%20%0A%20%20%20%20%20%20%20%20%20%20%20%20%7D%29%3B%0A%0A%20%20%20%20%20%20%20%20%20%20%20%20%0A%20%20%20%20%20%20%20%20%20%20%20%20%20%20%20%20var%20html_47d0fc8d65cc47eb9460d696cbf0f4bd%20%3D%20%24%28%60%3Cdiv%20id%3D%22html_47d0fc8d65cc47eb9460d696cbf0f4bd%22%20style%3D%22width%3A%20100.0%25%3B%20height%3A%20100.0%25%3B%22%3EStarting%20Point%3C/div%3E%60%29%5B0%5D%3B%0A%20%20%20%20%20%20%20%20%20%20%20%20%20%20%20%20popup_0539d49708a644b89ee1f67eccf195d6.setContent%28html_47d0fc8d65cc47eb9460d696cbf0f4bd%29%3B%0A%20%20%20%20%20%20%20%20%20%20%20%20%0A%0A%20%20%20%20%20%20%20%20%20%20%20%20marker_e72f1cbe4dfe498aadf6b57618cf52db.bindPopup%28popup_0539d49708a644b89ee1f67eccf195d6%29%0A%20%20%20%20%20%20%20%20%20%20%20%20%3B%0A%0A%20%20%20%20%20%20%20%20%20%20%20%20%0A%20%20%20%20%20%20%20%20%0A%20%20%20%20%0A%20%20%20%20%20%20%20%20marker_e72f1cbe4dfe498aadf6b57618cf52db.bindTooltip%28%0A%20%20%20%20%20%20%20%20%20%20%20%20%60%3Cdiv%3E%60%0A%20%20%20%20%20%20%20%20%20%20%20%20%2B%20%60Starting%20Point%60%20%2B%20%60%3C/div%3E%60%2C%0A%20%20%20%20%20%20%20%20%20%20%20%20%7B%22sticky%22%3A%20true%7D%0A%20%20%20%20%20%20%20%20%29%3B%0A%20%20%20%20%20%20%20%20%0A%20%20%20%20%0A%20%20%20%20%20%20%20%20var%20marker_4a97ad2ecf834600a95a35eca776f742%20%3D%20L.marker%28%0A%20%20%20%20%20%20%20%20%20%20%20%20%5B37.94832618491523%2C%2023.71160980358274%5D%2C%0A%20%20%20%20%20%20%20%20%20%20%20%20%7B%0A%20%20%20%20%20%20%20%20%20%20%20%20%20%20%20%20icon%3A%20new%20L.Icon.Default%28%29%2C%0A%20%20%20%20%20%20%20%20%20%20%20%20%20%20%20%20%7D%0A%20%20%20%20%20%20%20%20%20%20%20%20%29.addTo%28map_a15f911063284abebb7abad311ac9c5e%29%3B%0A%20%20%20%20%20%20%20%20%0A%20%20%20%20%0A%0A%20%20%20%20%20%20%20%20%20%20%20%20%20%20%20%20var%20icon_5dff9c455cf04b2992b35fe74476f92f%20%3D%20L.AwesomeMarkers.icon%28%7B%0A%20%20%20%20%20%20%20%20%20%20%20%20%20%20%20%20%20%20%20%20icon%3A%20%27fas%20fa-crosshairs%27%2C%0A%20%20%20%20%20%20%20%20%20%20%20%20%20%20%20%20%20%20%20%20iconColor%3A%20%27white%27%2C%0A%20%20%20%20%20%20%20%20%20%20%20%20%20%20%20%20%20%20%20%20markerColor%3A%20%27darkblue%27%2C%0A%20%20%20%20%20%20%20%20%20%20%20%20%20%20%20%20%20%20%20%20prefix%3A%20%27fa%27%2C%0A%20%20%20%20%20%20%20%20%20%20%20%20%20%20%20%20%20%20%20%20extraClasses%3A%20%27fa-rotate-0%27%0A%20%20%20%20%20%20%20%20%20%20%20%20%20%20%20%20%20%20%20%20%7D%29%3B%0A%20%20%20%20%20%20%20%20%20%20%20%20%20%20%20%20marker_4a97ad2ecf834600a95a35eca776f742.setIcon%28icon_5dff9c455cf04b2992b35fe74476f92f%29%3B%0A%20%20%20%20%20%20%20%20%20%20%20%20%0A%20%20%20%20%0A%20%20%20%20%20%20%20%20%20%20%20%20var%20popup_1ca469fecbfc4c2891887cb0d44cd558%20%3D%20L.popup%28%7BmaxWidth%3A%20%27100%25%27%0A%20%20%20%20%20%20%20%20%20%20%20%20%0A%20%20%20%20%20%20%20%20%20%20%20%20%7D%29%3B%0A%0A%20%20%20%20%20%20%20%20%20%20%20%20%0A%20%20%20%20%20%20%20%20%20%20%20%20%20%20%20%20var%20html_591eac829f6e47edbce5bc2f2001bab0%20%3D%20%24%28%60%3Cdiv%20id%3D%22html_591eac829f6e47edbce5bc2f2001bab0%22%20style%3D%22width%3A%20100.0%25%3B%20height%3A%20100.0%25%3B%22%3EDestination%3C/div%3E%60%29%5B0%5D%3B%0A%20%20%20%20%20%20%20%20%20%20%20%20%20%20%20%20popup_1ca469fecbfc4c2891887cb0d44cd558.setContent%28html_591eac829f6e47edbce5bc2f2001bab0%29%3B%0A%20%20%20%20%20%20%20%20%20%20%20%20%0A%0A%20%20%20%20%20%20%20%20%20%20%20%20marker_4a97ad2ecf834600a95a35eca776f742.bindPopup%28popup_1ca469fecbfc4c2891887cb0d44cd558%29%0A%20%20%20%20%20%20%20%20%20%20%20%20%3B%0A%0A%20%20%20%20%20%20%20%20%20%20%20%20%0A%20%20%20%20%20%20%20%20%0A%20%20%20%20%0A%20%20%20%20%20%20%20%20marker_4a97ad2ecf834600a95a35eca776f742.bindTooltip%28%0A%20%20%20%20%20%20%20%20%20%20%20%20%60%3Cdiv%3E%60%0A%20%20%20%20%20%20%20%20%20%20%20%20%2B%20%60Destination%60%20%2B%20%60%3C/div%3E%60%2C%0A%20%20%20%20%20%20%20%20%20%20%20%20%7B%22sticky%22%3A%20true%7D%0A%20%20%20%20%20%20%20%20%29%3B%0A%20%20%20%20%20%20%20%20%0A%20%20%20%20%0A%20%20%20%20%20%20%20%20%20%20%20%20%20%20%20%20var%20poly_line_67bb9fd6d1344f66afc8c118388faceb%20%3D%20L.polyline%28%0A%20%20%20%20%20%20%20%20%20%20%20%20%20%20%20%20%20%20%20%20%5B%5B37.90281818593238%2C%2023.774178559545103%5D%2C%20%5B37.902734%2C%2023.7740625%5D%2C%20%5B37.9024813%2C%2023.7737001%5D%2C%20%5B37.9022111%2C%2023.7733101%5D%2C%20%5B37.9017181%2C%2023.7725948%5D%2C%20%5B37.9012178%2C%2023.7719069%5D%2C%20%5B37.9013458%2C%2023.771735%5D%2C%20%5B37.9014349%2C%2023.7715379%5D%2C%20%5B37.9014798%2C%2023.7713522%5D%2C%20%5B37.901488%2C%2023.7711241%5D%2C%20%5B37.9014649%2C%2023.7709389%5D%2C%20%5B37.9013747%2C%2023.7706867%5D%2C%20%5B37.9012757%2C%2023.7705328%5D%2C%20%5B37.9008766%2C%2023.7699685%5D%2C%20%5B37.9002408%2C%2023.7690765%5D%2C%20%5B37.8992267%2C%2023.7676436%5D%2C%20%5B37.8981918%2C%2023.7661708%5D%2C%20%5B37.8971604%2C%2023.7647397%5D%2C%20%5B37.8961305%2C%2023.7633302%5D%2C%20%5B37.8950923%2C%2023.7618582%5D%2C%20%5B37.895331%2C%2023.7615987%5D%2C%20%5B37.8955339%2C%2023.7613965%5D%2C%20%5B37.895644%2C%2023.7612879%5D%2C%20%5B37.8956904%2C%2023.7612223%5D%2C%20%5B37.8957806%2C%2023.7611151%5D%2C%20%5B37.8958172%2C%2023.7610494%5D%2C%20%5B37.8958477%2C%2023.760986%5D%2C%20%5B37.8958774%2C%2023.7609162%5D%2C%20%5B37.8959002%2C%2023.7608567%5D%2C%20%5B37.8959277%2C%2023.7607902%5D%2C%20%5B37.895947%2C%2023.7607301%5D%2C%20%5B37.8959704%2C%2023.7606333%5D%2C%20%5B37.8960052%2C%2023.7604847%5D%2C%20%5B37.8960414%2C%2023.760339%5D%2C%20%5B37.8960729%2C%2023.7602231%5D%2C%20%5B37.8961007%2C%2023.7601342%5D%2C%20%5B37.8961313%2C%2023.7600621%5D%2C%20%5B37.8961555%2C%2023.7600256%5D%2C%20%5B37.8961758%2C%2023.7599931%5D%2C%20%5B37.8962309%2C%2023.759892%5D%2C%20%5B37.8962759%2C%2023.7597986%5D%2C%20%5B37.8963434%2C%2023.7597057%5D%2C%20%5B37.8963951%2C%2023.7596487%5D%2C%20%5B37.8964505%2C%2023.7595845%5D%2C%20%5B37.896828%2C%2023.7591976%5D%2C%20%5B37.8968622%2C%2023.7591618%5D%2C%20%5B37.8971685%2C%2023.7588519%5D%2C%20%5B37.8971722%2C%2023.7588481%5D%2C%20%5B37.8974696%2C%2023.7585518%5D%2C%20%5B37.8975047%2C%2023.7585192%5D%2C%20%5B37.8975857%2C%2023.7584425%5D%2C%20%5B37.8981272%2C%2023.7579803%5D%2C%20%5B37.8984367%2C%2023.7577283%5D%2C%20%5B37.8986323%2C%2023.7575687%5D%2C%20%5B37.8986541%2C%2023.7575465%5D%2C%20%5B37.8987597%2C%2023.7574738%5D%2C%20%5B37.8987809%2C%2023.7574595%5D%2C%20%5B37.8991629%2C%2023.7571714%5D%2C%20%5B37.8992369%2C%2023.7571087%5D%2C%20%5B37.8993221%2C%2023.7570466%5D%2C%20%5B37.8994291%2C%2023.7569877%5D%2C%20%5B37.9001419%2C%2023.7566461%5D%2C%20%5B37.9001639%2C%2023.7566348%5D%2C%20%5B37.9002347%2C%2023.7565985%5D%2C%20%5B37.900338%2C%2023.7565504%5D%2C%20%5B37.9005454%2C%2023.7564536%5D%2C%20%5B37.9006761%2C%2023.7563885%5D%2C%20%5B37.9007868%2C%2023.7563334%5D%2C%20%5B37.9011994%2C%2023.7561114%5D%2C%20%5B37.9020403%2C%2023.7556987%5D%2C%20%5B37.9020851%2C%2023.7556772%5D%2C%20%5B37.9021564%2C%2023.7556413%5D%2C%20%5B37.9022325%2C%2023.7556026%5D%2C%20%5B37.9025047%2C%2023.7554756%5D%2C%20%5B37.9027545%2C%2023.7553498%5D%2C%20%5B37.9030928%2C%2023.7551749%5D%2C%20%5B37.9039096%2C%2023.7547484%5D%2C%20%5B37.9039899%2C%2023.7547087%5D%2C%20%5B37.9040394%2C%2023.7546811%5D%2C%20%5B37.9041784%2C%2023.7546072%5D%2C%20%5B37.9043667%2C%2023.7545144%5D%2C%20%5B37.9049731%2C%2023.7541955%5D%2C%20%5B37.9053035%2C%2023.7540481%5D%2C%20%5B37.9056661%2C%2023.7538922%5D%2C%20%5B37.9058292%2C%2023.7538232%5D%2C%20%5B37.9058682%2C%2023.7538048%5D%2C%20%5B37.905938%2C%2023.7537687%5D%2C%20%5B37.9059945%2C%2023.7537425%5D%2C%20%5B37.9060974%2C%2023.7536986%5D%2C%20%5B37.9061903%2C%2023.7536581%5D%2C%20%5B37.906419%2C%2023.7535583%5D%2C%20%5B37.9064851%2C%2023.7535295%5D%2C%20%5B37.9070037%2C%2023.7532945%5D%2C%20%5B37.9071353%2C%2023.7532349%5D%2C%20%5B37.9073344%2C%2023.7531447%5D%2C%20%5B37.9074255%2C%2023.7530941%5D%2C%20%5B37.9074322%2C%2023.7530904%5D%2C%20%5B37.9074704%2C%2023.7530734%5D%2C%20%5B37.9075592%2C%2023.7530148%5D%2C%20%5B37.9077861%2C%2023.7528398%5D%2C%20%5B37.9079991%2C%2023.752687%5D%2C%20%5B37.908205%2C%2023.7525403%5D%2C%20%5B37.9082986%2C%2023.7524654%5D%2C%20%5B37.9084084%2C%2023.7523872%5D%2C%20%5B37.9086917%2C%2023.7521745%5D%2C%20%5B37.90889%2C%2023.7520257%5D%2C%20%5B37.9092284%2C%2023.7517716%5D%2C%20%5B37.9092654%2C%2023.7517439%5D%2C%20%5B37.9096498%2C%2023.7514553%5D%2C%20%5B37.9099359%2C%2023.7512405%5D%2C%20%5B37.9099626%2C%2023.7512205%5D%2C%20%5B37.9100224%2C%2023.7511706%5D%2C%20%5B37.9100761%2C%2023.7511342%5D%2C%20%5B37.9106444%2C%2023.7506935%5D%2C%20%5B37.910798%2C%2023.7505743%5D%2C%20%5B37.9109047%2C%2023.7504916%5D%2C%20%5B37.9113167%2C%2023.7500886%5D%2C%20%5B37.9115049%2C%2023.7499044%5D%2C%20%5B37.9115708%2C%2023.7498364%5D%2C%20%5B37.911661%2C%2023.7497431%5D%2C%20%5B37.9117609%2C%2023.7496351%5D%2C%20%5B37.9118691%2C%2023.7495252%5D%2C%20%5B37.9120029%2C%2023.74939%5D%2C%20%5B37.9120519%2C%2023.7493351%5D%2C%20%5B37.9124842%2C%2023.7488798%5D%2C%20%5B37.9130907%2C%2023.7482409%5D%2C%20%5B37.9132028%2C%2023.7481062%5D%2C%20%5B37.9132805%2C%2023.7480059%5D%2C%20%5B37.9147797%2C%2023.7458616%5D%2C%20%5B37.9148893%2C%2023.7457048%5D%2C%20%5B37.9149635%2C%2023.7456087%5D%2C%20%5B37.9150177%2C%2023.7455474%5D%2C%20%5B37.915164%2C%2023.7454019%5D%2C%20%5B37.915196%2C%2023.7453713%5D%2C%20%5B37.9152309%2C%2023.7453357%5D%2C%20%5B37.9152798%2C%2023.7452134%5D%2C%20%5B37.9153927%2C%2023.7451363%5D%2C%20%5B37.9158308%2C%2023.7447493%5D%2C%20%5B37.9158931%2C%2023.7447078%5D%2C%20%5B37.9159517%2C%2023.7446834%5D%2C%20%5B37.9160412%2C%2023.7446657%5D%2C%20%5B37.9161212%2C%2023.7446582%5D%2C%20%5B37.9164159%2C%2023.7446334%5D%2C%20%5B37.9164991%2C%2023.7446357%5D%2C%20%5B37.9165899%2C%2023.7446535%5D%2C%20%5B37.9169961%2C%2023.7447754%5D%2C%20%5B37.9171295%2C%2023.7448137%5D%2C%20%5B37.9172853%2C%2023.7448647%5D%2C%20%5B37.9173135%2C%2023.7448075%5D%2C%20%5B37.9173463%2C%2023.7447542%5D%2C%20%5B37.9174082%2C%2023.7447032%5D%2C%20%5B37.9174568%2C%2023.744678%5D%2C%20%5B37.9175284%2C%2023.7446615%5D%2C%20%5B37.9180493%2C%2023.7445939%5D%2C%20%5B37.9182781%2C%2023.7445716%5D%2C%20%5B37.9186978%2C%2023.7444888%5D%2C%20%5B37.9194239%2C%2023.7444903%5D%2C%20%5B37.9198746%2C%2023.7444911%5D%2C%20%5B37.9200075%2C%2023.7444939%5D%2C%20%5B37.920121%2C%2023.7444961%5D%2C%20%5B37.9205068%2C%2023.7444961%5D%2C%20%5B37.9210357%2C%2023.7444953%5D%2C%20%5B37.9212803%2C%2023.7444976%5D%2C%20%5B37.9232822%2C%2023.7445067%5D%2C%20%5B37.9236413%2C%2023.744506%5D%2C%20%5B37.9236784%2C%2023.7445043%5D%2C%20%5B37.9237625%2C%2023.744507%5D%2C%20%5B37.9238502%2C%2023.7445059%5D%2C%20%5B37.9239889%2C%2023.7445052%5D%2C%20%5B37.9250199%2C%2023.7444972%5D%2C%20%5B37.9266935%2C%2023.7445133%5D%2C%20%5B37.9274096%2C%2023.7445187%5D%2C%20%5B37.9274895%2C%2023.74452%5D%2C%20%5B37.9275384%2C%2023.7445202%5D%2C%20%5B37.927625%2C%2023.7445223%5D%2C%20%5B37.9276266%2C%2023.7442977%5D%2C%20%5B37.9276177%2C%2023.7442055%5D%2C%20%5B37.9275961%2C%2023.7440932%5D%2C%20%5B37.927574%2C%2023.7440125%5D%2C%20%5B37.9275559%2C%2023.7439453%5D%2C%20%5B37.9276075%2C%2023.7438328%5D%2C%20%5B37.9277632%2C%2023.7433345%5D%2C%20%5B37.927905%2C%2023.7427899%5D%2C%20%5B37.92831%2C%2023.7413806%5D%2C%20%5B37.9284007%2C%2023.7410249%5D%2C%20%5B37.9287408%2C%2023.7397875%5D%2C%20%5B37.9286531%2C%2023.7397494%5D%2C%20%5B37.9289185%2C%2023.7392722%5D%2C%20%5B37.9298682%2C%2023.7378011%5D%2C%20%5B37.9299421%2C%2023.7379208%5D%2C%20%5B37.9302655%2C%2023.7373785%5D%2C%20%5B37.9305735%2C%2023.7368301%5D%2C%20%5B37.9308653%2C%2023.7362909%5D%2C%20%5B37.9311624%2C%2023.7357568%5D%2C%20%5B37.9312752%2C%2023.7355639%5D%2C%20%5B37.9315541%2C%2023.7350426%5D%2C%20%5B37.9316277%2C%2023.7348971%5D%2C%20%5B37.9316617%2C%2023.7348837%5D%2C%20%5B37.9317036%2C%2023.7348636%5D%2C%20%5B37.9317643%2C%2023.7348298%5D%2C%20%5B37.9318436%2C%2023.7347735%5D%2C%20%5B37.9319534%2C%2023.7346744%5D%2C%20%5B37.9320662%2C%2023.7345561%5D%2C%20%5B37.9321223%2C%2023.734479%5D%2C%20%5B37.9321451%2C%2023.7344438%5D%2C%20%5B37.9322202%2C%2023.7342949%5D%2C%20%5B37.932371%2C%2023.7339555%5D%2C%20%5B37.93272%2C%2023.7332927%5D%2C%20%5B37.9327596%2C%2023.73321%5D%2C%20%5B37.933207%2C%2023.7323636%5D%2C%20%5B37.9333313%2C%2023.7320984%5D%2C%20%5B37.9333668%2C%2023.7320044%5D%2C%20%5B37.9336271%2C%2023.7313151%5D%2C%20%5B37.9336438%2C%2023.7312708%5D%2C%20%5B37.9336673%2C%2023.7312084%5D%2C%20%5B37.9338405%2C%2023.7307473%5D%2C%20%5B37.9341346%2C%2023.7310246%5D%2C%20%5B37.9345807%2C%2023.7314452%5D%2C%20%5B37.9346557%2C%2023.7312866%5D%2C%20%5B37.9350918%2C%2023.7304947%5D%2C%20%5B37.9354938%2C%2023.7298059%5D%2C%20%5B37.9356413%2C%2023.7295508%5D%2C%20%5B37.9356745%2C%2023.7294916%5D%2C%20%5B37.9357467%2C%2023.7294441%5D%2C%20%5B37.9358676%2C%2023.7292686%5D%2C%20%5B37.9363151%2C%2023.7285614%5D%2C%20%5B37.9366988%2C%2023.7278911%5D%2C%20%5B37.9370809%2C%2023.7273112%5D%2C%20%5B37.9375522%2C%2023.7266034%5D%2C%20%5B37.9373699%2C%2023.7263954%5D%2C%20%5B37.9376422%2C%2023.7259506%5D%2C%20%5B37.9378025%2C%2023.725752%5D%2C%20%5B37.9384132%2C%2023.7249072%5D%2C%20%5B37.9389918%2C%2023.7240775%5D%2C%20%5B37.9390649%2C%2023.724003%5D%2C%20%5B37.9393427%2C%2023.7236638%5D%2C%20%5B37.9399512%2C%2023.7229359%5D%2C%20%5B37.9399867%2C%2023.7228934%5D%2C%20%5B37.9399262%2C%2023.7228159%5D%2C%20%5B37.9397041%2C%2023.7225312%5D%2C%20%5B37.9397443%2C%2023.722483%5D%2C%20%5B37.9401952%2C%2023.7219437%5D%2C%20%5B37.9402266%2C%2023.7219172%5D%2C%20%5B37.940279%2C%2023.7218827%5D%2C%20%5B37.9403197%2C%2023.7218441%5D%2C%20%5B37.940347%2C%2023.7217711%5D%2C%20%5B37.9404822%2C%2023.7210264%5D%2C%20%5B37.9409937%2C%2023.7211759%5D%2C%20%5B37.941061%2C%2023.7211933%5D%2C%20%5B37.9419998%2C%2023.7214706%5D%2C%20%5B37.9421377%2C%2023.7215013%5D%2C%20%5B37.9422735%2C%2023.7215189%5D%2C%20%5B37.9433239%2C%2023.7218072%5D%2C%20%5B37.9437362%2C%2023.7212956%5D%2C%20%5B37.9440725%2C%2023.7208932%5D%2C%20%5B37.9444725%2C%2023.7203834%5D%2C%20%5B37.9445099%2C%2023.7203351%5D%2C%20%5B37.9450953%2C%2023.7196121%5D%2C%20%5B37.9456808%2C%2023.7188876%5D%2C%20%5B37.9460803%2C%2023.7183833%5D%2C%20%5B37.9462594%2C%2023.7181559%5D%2C%20%5B37.9465151%2C%2023.7178372%5D%2C%20%5B37.9465577%2C%2023.7177874%5D%2C%20%5B37.9468871%2C%2023.717371%5D%2C%20%5B37.9470718%2C%2023.7173339%5D%2C%20%5B37.9471683%2C%2023.7169991%5D%2C%20%5B37.9473344%2C%2023.716294%5D%2C%20%5B37.9473617%2C%2023.7161783%5D%2C%20%5B37.9474127%2C%2023.7159356%5D%2C%20%5B37.947443%2C%2023.7158144%5D%2C%20%5B37.9474635%2C%2023.7156984%5D%2C%20%5B37.9474785%2C%2023.7156136%5D%2C%20%5B37.9474868%2C%2023.7155666%5D%2C%20%5B37.9475361%2C%2023.7152882%5D%2C%20%5B37.9475642%2C%2023.7151293%5D%2C%20%5B37.9476436%2C%2023.714762%5D%2C%20%5B37.9477059%2C%2023.7144738%5D%2C%20%5B37.9477278%2C%2023.7143726%5D%2C%20%5B37.9478022%2C%2023.7140284%5D%2C%20%5B37.9478312%2C%2023.7138939%5D%2C%20%5B37.9482259%2C%2023.7120681%5D%2C%20%5B37.9483079%2C%2023.7116886%5D%2C%20%5B37.94832618491523%2C%2023.71160980358274%5D%5D%2C%0A%20%20%20%20%20%20%20%20%20%20%20%20%20%20%20%20%20%20%20%20%7B%0A%20%20%22bubblingMouseEvents%22%3A%20true%2C%0A%20%20%22color%22%3A%20%22purple%22%2C%0A%20%20%22dashArray%22%3A%20null%2C%0A%20%20%22dashOffset%22%3A%20null%2C%0A%20%20%22fill%22%3A%20false%2C%0A%20%20%22fillColor%22%3A%20%22purple%22%2C%0A%20%20%22fillOpacity%22%3A%200.2%2C%0A%20%20%22fillRule%22%3A%20%22evenodd%22%2C%0A%20%20%22lineCap%22%3A%20%22round%22%2C%0A%20%20%22lineJoin%22%3A%20%22round%22%2C%0A%20%20%22noClip%22%3A%20false%2C%0A%20%20%22opacity%22%3A%201%2C%0A%20%20%22smoothFactor%22%3A%200.3%2C%0A%20%20%22stroke%22%3A%20true%2C%0A%20%20%22weight%22%3A%202.5%0A%7D%0A%20%20%20%20%20%20%20%20%20%20%20%20%20%20%20%20%20%20%20%20%29%0A%20%20%20%20%20%20%20%20%20%20%20%20%20%20%20%20%20%20%20%20.addTo%28map_a15f911063284abebb7abad311ac9c5e%29%3B%0A%20%20%20%20%20%20%20%20%20%20%20%20%0A%20%20%20%20%0A%20%20%20%20%20%20%20%20poly_line_67bb9fd6d1344f66afc8c118388faceb.bindTooltip%28%0A%20%20%20%20%20%20%20%20%20%20%20%20%60%3Cdiv%3E%60%0A%20%20%20%20%20%20%20%20%20%20%20%20%2B%20%60Route%60%20%2B%20%60%3C/div%3E%60%2C%0A%20%20%20%20%20%20%20%20%20%20%20%20%7B%22sticky%22%3A%20true%7D%0A%20%20%20%20%20%20%20%20%29%3B%0A%20%20%20%20%20%20%20%20%0A%3C/script%3E onload=\"this.contentDocument.open();this.contentDocument.write(    decodeURIComponent(this.getAttribute('data-html')));this.contentDocument.close();\" allowfullscreen webkitallowfullscreen mozallowfullscreen></iframe></div></div>"
            ],
            "text/plain": [
              "<folium.folium.Map at 0x7f927be679d0>"
            ]
          },
          "metadata": {
            "tags": []
          },
          "execution_count": 19
        }
      ]
    },
    {
      "cell_type": "code",
      "metadata": {
        "id": "iNbbbmV7A2sL"
      },
      "source": [
        "#Print a .txt file with the code requirements.\n",
        "!pip freeze > /content/drive/MyDrive/Projects/Python_Projects/Vehicle_Navigation-Sortest_Path/requirements.txt"
      ],
      "execution_count": 21,
      "outputs": []
    }
  ]
}