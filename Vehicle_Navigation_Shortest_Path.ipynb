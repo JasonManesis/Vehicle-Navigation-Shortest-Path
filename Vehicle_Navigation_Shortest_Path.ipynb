{
  "nbformat": 4,
  "nbformat_minor": 0,
  "metadata": {
    "colab": {
      "name": "Vehicle_Navigation-Shortest_Path.ipynb",
      "provenance": [],
      "collapsed_sections": []
    },
    "kernelspec": {
      "name": "python3",
      "display_name": "Python 3"
    }
  },
  "cells": [
    {
      "cell_type": "code",
      "metadata": {
        "id": "-qsGXlxaBi60"
      },
      "source": [
        "!pip install osmnx==0.16.2"
      ],
      "execution_count": null,
      "outputs": []
    },
    {
      "cell_type": "code",
      "metadata": {
        "id": "3L6t9psKm8G-"
      },
      "source": [
        "!pip install contextily "
      ],
      "execution_count": null,
      "outputs": []
    },
    {
      "cell_type": "code",
      "metadata": {
        "id": "UqY7ppaQkPVO"
      },
      "source": [
        "#Import necessary libraries.\n",
        "import numpy as np\n",
        "import math\n",
        "import folium\n",
        "import contextily as ctx\n",
        "import shapely\n",
        "import osmnx as ox\n",
        "import geopandas as gpd\n",
        "from pyproj import Transformer\n",
        "from shapely.geometry import  Point, Polygon, LineString\n",
        "from matplotlib.ticker import FormatStrFormatter\n",
        "from matplotlib.patches import Circle\n",
        "from osgeo import ogr\n",
        "import matplotlib.pyplot as plt\n",
        "%matplotlib inline"
      ],
      "execution_count": 7,
      "outputs": []
    },
    {
      "cell_type": "code",
      "metadata": {
        "id": "jcTZqOEXUgQk"
      },
      "source": [
        "def pointreproject(point_x,point_y,inp_CRS,out_CRS):\n",
        "  \n",
        "  \"\"\"Converts from (latitude, longitude) to native map projection (x,y) coordinates and vice versa. \n",
        "\n",
        "    Args:\n",
        "        point_x: input CRS coordinate (x or latitude). \n",
        "        point_y: input CRS coordinate (y or longitude).\n",
        "        inp_CRS: reference system of input coordinates: 'epsg:4326','epsg:3857'...\n",
        "        out_CRS: reference system of output coordinates: 'epsg:4326','epsg:3857'...\n",
        "\n",
        "    Returns:\n",
        "        A tuple (latitude, longitude) or (x,y) of the reprojected coordinates of the input point in the output CRS.\n",
        "          \n",
        "  \"\"\"\n",
        "  transformer = Transformer.from_crs(inp_CRS, out_CRS)\n",
        "  out_x,out_y = transformer.transform(point_x, point_y)\n",
        "  transformer = []\n",
        "  \n",
        "  return out_x,out_y"
      ],
      "execution_count": 8,
      "outputs": []
    },
    {
      "cell_type": "code",
      "metadata": {
        "id": "Y341N91J18kn"
      },
      "source": [
        "def rgraphfrompoints(starting_point,ending_point):\n",
        "\n",
        "  \"\"\"Creates a graph, with edges (roads) and nodes (road intersections), based on the two given points.\n",
        "     The two given points must be in the WGS84 coordinate reference system and in the form of (latitude, longitude).  \n",
        "\n",
        "    Args:\n",
        "        starting_point: the route's starting point. -> A tuple of (latitude, longitude).\n",
        "        ending_point: the route's ending point. -> A tuple of (latitude, longitude).\n",
        "\n",
        "    Returns:\n",
        "        A reprojected (from EPSG:4326 to EPSG:3857) MultiDiGraph from the osmnx package.\n",
        "          \n",
        "  \"\"\"\n",
        "  #Input points geographical coordinates.  \n",
        "  lat1 = starting_point[0]\n",
        "  lat2 = ending_point[0]\n",
        "  long1 = starting_point[1]\n",
        "  long2 = ending_point[1]\n",
        "  \n",
        "  #Find the function's argument values.\n",
        "  north = lat2\n",
        "  south = lat1\n",
        "  if  lat1 > lat2:\n",
        "    north = lat1 \n",
        "    south = lat2\n",
        "\n",
        "  east = long2\n",
        "  west = long1\n",
        "  if  long1 > long2:\n",
        "    east = long1 \n",
        "    west = long2\n",
        "\n",
        "  #Construct the road graph.\n",
        "  roadgraph = ox.graph_from_bbox(north+0.01, south-0.01, east+0.01, west-0.01, network_type = 'drive', simplify=False )\n",
        "\n",
        "  #Reproject the road graph.\n",
        "  projected_roadgraph = ox.projection.project_graph(roadgraph, to_crs='epsg:3857')\n",
        "\n",
        "  return projected_roadgraph "
      ],
      "execution_count": 9,
      "outputs": []
    },
    {
      "cell_type": "code",
      "metadata": {
        "id": "U4NxiIXDwwu9"
      },
      "source": [
        "def nearest_edge_node_id(point,roadgraph):\n",
        "\n",
        "  \"\"\"Finds the nearest network's node id for the given point, which lies in the nearest network edge.\n",
        "     Input Point -> Nearest Edge Point -> Nearest Network Node (Route Starting/Ending Point).\n",
        "     The given point's coordinates must be in the EPSG:4326.  \n",
        "\n",
        "    Args:\n",
        "        point: The point:(latitude, longitude) that needs to be transfered to the nearest network node..\n",
        "        roadgraph: A reprojected (from EPSG:4326 to EPSG:3857) MultiDiGraph from the osmnx package.\n",
        "\n",
        "    Returns:\n",
        "        The nearest network's node id for the given point, which is in the nearest network edge. \n",
        "    \n",
        "  \"\"\"\n",
        "  #Reproject point coordinates from EPSG:4326 to the EPSG:3857.   \n",
        "  point_x, point_y = pointreproject(point[0], point[1],'epsg:4326','epsg:3857')\n",
        "\n",
        "  #Find the nearest road.\n",
        "  _, _, _, nearest_road = ox.distance.get_nearest_edge(roadgraph, (point_y,point_x), return_geom=True)\n",
        "  \n",
        "  #Find all point coordinates that are constructing the specific road.\n",
        "  nearest_road_coords = np.array(nearest_road.xy)\n",
        "\n",
        "  #Calculate all distances between the input point and all the points constructing the nearest road line.\n",
        "  e_distances = []\n",
        "  for i in range(0,nearest_road_coords[0].size):\n",
        "    e_dist = ox.distance.euclidean_dist_vec(point_y,point_x,nearest_road_coords[1][i],nearest_road_coords[0][i])\n",
        "    e_distances.append(e_dist)\n",
        "  mindist = min(e_distances)\n",
        "  for i in range(0,len(e_distances)):\n",
        "    if e_distances[i]==mindist: pos=i\n",
        "\n",
        "  #Nearest edge node coordinates.\n",
        "  nearest_edge_node_x = nearest_road_coords[0][pos]  \n",
        "  nearest_edge_node_y = nearest_road_coords[1][pos]  \n",
        "\n",
        "  #Find the nearest network's node id, which has the minimum distance from the road point that has the minimum distance from the input point.\n",
        "  node_id= ox.distance.get_nearest_node(roadgraph, (nearest_edge_node_y,nearest_edge_node_x),  method='euclidean')\n",
        "\n",
        "  return node_id"
      ],
      "execution_count": 10,
      "outputs": []
    },
    {
      "cell_type": "code",
      "metadata": {
        "id": "nasHOUfW_ylu"
      },
      "source": [
        "def pointreproject2edge(point,roadgraph):\n",
        "\n",
        "  \"\"\"\n",
        "    Finds the nearest network's edge for the given point, and reprojects it perpendicularly to its nearest edge.\n",
        "    If the orthogonal projection of the point lies outside the nearest edge's nodes, then the point isn't reprojected\n",
        "    but it is transferred to the nearest network node instead.\n",
        "\n",
        "     The given point's coordinates must be in the EPSG:4326, and following the form of (latitude, longitude).  \n",
        "\n",
        "    Args:\n",
        "        point: The point:(latitude, longitude) that needs to be projected to the nearest network edge.\n",
        "        roadgraph: A MultiDiGraph (EPSG:3857) from the osmnx package.\n",
        "\n",
        "    Returns:\n",
        "        A tuple (latitude, longitude) of the reprojected coordinates of the input point.\n",
        "    \n",
        "  \"\"\"\n",
        "\n",
        "  #Reproject point coordinates from EPSG:4326 to the EPSG:3857.   \n",
        "  point_x, point_y = pointreproject(point[0], point[1],'epsg:4326','epsg:3857')\n",
        "\n",
        "  #Find the nearest road.\n",
        "  _, _, _, nearest_road, dist__pp = ox.distance.get_nearest_edge(roadgraph, (point_y,point_x), return_geom=True, return_dist=True)\n",
        "\n",
        "  #Extract the nearest road coordinates.\n",
        "  nearest_road_coords = np.array(nearest_road.xy)\n",
        "\n",
        "  #Calculate the euclidean distance between the input point and the nearest edge's first node.\n",
        "  dist__pv = ox.distance.euclidean_dist_vec(point_y,point_x,nearest_road_coords[1][0],nearest_road_coords[0][0])\n",
        "\n",
        "  #Calculate the hypotenuse.\n",
        "  dist = np.sqrt(dist__pv**2-dist__pp**2)\n",
        "\n",
        "  #Create the corresponding circle.\n",
        "  circle = Point(nearest_road_coords[0][0], nearest_road_coords[1][0]).buffer(dist).boundary\n",
        "\n",
        "  #Find the circle's intersection point with the given edge.\n",
        "  intersection_points = circle.intersection(nearest_road)\n",
        "  \n",
        "  lies_in = False\n",
        "\n",
        "  #If the orthogonal projection of the point lies inside the nearest edge's nodes.\n",
        "  if type(intersection_points) == shapely.geometry.point.Point:\n",
        "    lies_in = True\n",
        "    intersection_point_x = intersection_points.x\n",
        "    intersection_point_y = intersection_points.y\n",
        " \n",
        "  #If the orthogonal projection of the point lies outside the nearest edge's nodes.\n",
        "  else:\n",
        "    gdf = ox.utils_graph.graph_to_gdfs(roadgraph)\n",
        "    nodes_gdf = gdf[0].reset_index(drop=True) \n",
        "    nearest_node_id = nearest_edge_node_id(point,roadgraph)\n",
        "    intersection_point_x = nodes_gdf.loc[(nodes_gdf['osmid']==nearest_node_id)].x.values[0]\n",
        "    intersection_point_y = nodes_gdf.loc[(nodes_gdf['osmid']==nearest_node_id)].y.values[0]\n",
        "\n",
        "  #Find the nearest node id from the intersection point.\n",
        "  node_id = ox.distance.get_nearest_node(roadgraph, (intersection_point_y,intersection_point_x),  method='euclidean')\n",
        "\n",
        "  #Reproject the calculated grid point from epsg:3857 to epsg:4326.\n",
        "  point_lat, point_long = pointreproject(intersection_point_x, intersection_point_y,'epsg:3857','epsg:4326')\n",
        "\n",
        "  return point_lat, point_long, lies_in"
      ],
      "execution_count": 11,
      "outputs": []
    },
    {
      "cell_type": "code",
      "metadata": {
        "id": "cl0gSA_qqSOB"
      },
      "source": [
        "def routeplot(starting_point,ending_point):\n",
        "\n",
        "  \"\"\"\n",
        "     Finds and plots the sortest route -based on Dijkstra's pathfinding algorithm- between the \n",
        "     two given points in the given roadgraph.The given points coordinates must be in the EPSG:4326 \n",
        "     and they must be following the form of (latitude, longitude). \n",
        "\n",
        "    Args:\n",
        "        starting_point: the route's starting point. -> A tuple of (latitude, longitude).\n",
        "        ending_point: the route's ending point. -> A tuple of (latitude, longitude).\n",
        "\n",
        "    Returns:\n",
        "        A Folium map with the given starting and ending points and the shortest path between them. \n",
        "    \n",
        "  \"\"\"\n",
        "\n",
        "  #Calculate the roadgraph between the starting and ending points.\n",
        "  roadgraph = rgraphfrompoints(starting_point,ending_point)\n",
        "\n",
        "  #Find the routes starting end ending point which lies inside the given roadgraph.\n",
        "  p_lat1,p_long1,lies_in1 = pointreproject2edge(starting_point,roadgraph)\n",
        "  p_lat2,p_long2,lies_in2 = pointreproject2edge(ending_point,roadgraph)\n",
        "\n",
        "  #Find the nearest edge node id.\n",
        "  node1_id = nearest_edge_node_id(starting_point,roadgraph)\n",
        "  node2_id = nearest_edge_node_id(ending_point,roadgraph)\n",
        "  \n",
        "  #Calculate the sortest path between the two given nodes.\n",
        "  nodeids = ox.shortest_path(roadgraph, node1_id, node2_id)\n",
        "\n",
        "  #Create the necessary geodataframes.\n",
        "  gdf = ox.utils_graph.graph_to_gdfs(roadgraph)\n",
        "  nodes_gdf = gdf[0].reset_index(drop=True) \n",
        "\n",
        "  #Map's center point.\n",
        "  center_lat = (starting_point[0]+ending_point[0])/2\n",
        "  center_long = (starting_point[1]+ending_point[1])/2\n",
        "  center = [center_lat,center_long]\n",
        "\n",
        "  #Define the map.\n",
        "  m = folium.Map(location=center, zoom_start=13, crs='EPSG3857')\n",
        "\n",
        "  #Plot Original points.\n",
        "  folium.Marker((starting_point[0], starting_point[1]), \n",
        "                 popup=\"Original Starting Point\", tooltip=\"Original Starting Point\", \n",
        "                 icon=folium.Icon(color='pink', icon=\"fas fa-car\", prefix='fa')).add_to(m);\n",
        "\n",
        "  folium.Marker((ending_point[0], ending_point[1]), \n",
        "                 popup=\"Original Destination\", tooltip=\"Original Destination\", \n",
        "                 icon=folium.Icon(color='pink', icon=\"fas fa-crosshairs\", prefix='fa')).add_to(m);\n",
        "\n",
        "  #Plot Starting and Destination points.\n",
        "  folium.Marker((p_lat1,p_long1), \n",
        "                popup=\"Starting Point\", tooltip=\"Starting Point\", \n",
        "                icon=folium.Icon(color='darkblue', icon=\"fas fa-car\", prefix='fa')).add_to(m);\n",
        "\n",
        "  folium.Marker((p_lat2,p_long2), \n",
        "                popup=\"Destination\", tooltip=\"Destination\", \n",
        "                icon=folium.Icon(color='darkblue', icon=\"fas fa-crosshairs\", prefix='fa')).add_to(m);\n",
        "\n",
        "  #Create a list of tuples (locations) for each of route's node coordinates.\n",
        "  locations = []\n",
        "  locations.append((p_lat1,p_long1)) #Add the starting point to the route.\n",
        "  for node_id in nodeids:\n",
        "    p_lat = nodes_gdf.loc[(nodes_gdf['osmid']==node_id)].lat.values[0]\n",
        "    p_long = nodes_gdf.loc[(nodes_gdf['osmid']==node_id)].lon.values[0]\n",
        "    locations.append((p_lat,p_long))\n",
        "  locations.append((p_lat2,p_long2)) #Add the ending point to the route.\n",
        "\n",
        "  #Cut the final route segment if the starting point lies in it.\n",
        "  if lies_in1: \n",
        "    r1 = pointreproject(locations[1][0],locations[1][1],'epsg:4326','epsg:3857')\n",
        "    r2 = pointreproject(locations[2][0],locations[2][1],'epsg:4326','epsg:3857')\n",
        "    road1 = LineString([r1,r2])\n",
        "    point1_x, point1_y = pointreproject(p_lat1,p_long1,'epsg:4326','epsg:3857')\n",
        "    point1 = Point(point1_x, point1_y)\n",
        "    if road1.distance(point1) < 1e-8 :del locations[1] \n",
        "\n",
        "  #Cut the final route segment if the ending point lies in it.\n",
        "  if lies_in2: \n",
        "    r3 = pointreproject(locations[-3][0],locations[-3][1],'epsg:4326','epsg:3857')\n",
        "    r4 = pointreproject(locations[-2][0],locations[-2][1],'epsg:4326','epsg:3857')\n",
        "    road2 = LineString([r3,r4])\n",
        "    point2_x, point2_y = pointreproject(p_lat2,p_long2,'epsg:4326','epsg:3857')\n",
        "    point2 = Point(point2_x, point2_y)\n",
        "    if road2.distance(point2) < 1e-8 :del locations[-2] \n",
        "\n",
        "\n",
        "  #Create a folium polyline from the list of \"locations\".\n",
        "  route = folium.PolyLine(locations=locations,tooltip='Route', smooth_factor=0.3, color=\"purple\", weight=2.5, opacity=1)\n",
        "\n",
        "  #Plot route.\n",
        "  route.add_to(m);\n",
        "\n",
        "  #Save map to html file.\n",
        "  m.save('route.html') #saves the .html file in the local directory.\n",
        "\n",
        "  #Plot map.\n",
        "  return m"
      ],
      "execution_count": 12,
      "outputs": []
    },
    {
      "cell_type": "code",
      "metadata": {
        "id": "n7xncNpQ5ORC"
      },
      "source": [
        "#Random points to WGS84 between latitude of 37.9000-38.0000 degrees and longitude of 23.7000-23.8000 degrees. (Athens, Attiki, Greece)\n",
        "starting_point = (round(37.9+np.random.random()/10,4),round(23.7+np.random.random()/10,4))\n",
        "ending_point = (round(37.9+np.random.random()/10,4),round(23.7+np.random.random()/10,4))"
      ],
      "execution_count": 13,
      "outputs": []
    },
    {
      "cell_type": "code",
      "metadata": {
        "colab": {
          "base_uri": "https://localhost:8080/",
          "height": 685
        },
        "id": "HsiG163d4Oxh",
        "outputId": "60fd84b5-5f76-46c6-ea78-790501acaea1"
      },
      "source": [
        "#Plot the route between starting and ending point.\n",
        "routeplot(starting_point,ending_point)"
      ],
      "execution_count": 14,
      "outputs": [
        {
          "output_type": "execute_result",
          "data": {
            "text/html": [
              "<div style=\"width:100%;\"><div style=\"position:relative;width:100%;height:0;padding-bottom:60%;\"><span style=\"color:#565656\">Make this Notebook Trusted to load map: File -> Trust Notebook</span><iframe src=\"about:blank\" style=\"position:absolute;width:100%;height:100%;left:0;top:0;border:none !important;\" data-html=%3C%21DOCTYPE%20html%3E%0A%3Chead%3E%20%20%20%20%0A%20%20%20%20%3Cmeta%20http-equiv%3D%22content-type%22%20content%3D%22text/html%3B%20charset%3DUTF-8%22%20/%3E%0A%20%20%20%20%3Cscript%3EL_PREFER_CANVAS%3Dfalse%3B%20L_NO_TOUCH%3Dfalse%3B%20L_DISABLE_3D%3Dfalse%3B%3C/script%3E%0A%20%20%20%20%3Cscript%20src%3D%22https%3A//cdn.jsdelivr.net/npm/leaflet%401.4.0/dist/leaflet.js%22%3E%3C/script%3E%0A%20%20%20%20%3Cscript%20src%3D%22https%3A//code.jquery.com/jquery-1.12.4.min.js%22%3E%3C/script%3E%0A%20%20%20%20%3Cscript%20src%3D%22https%3A//maxcdn.bootstrapcdn.com/bootstrap/3.2.0/js/bootstrap.min.js%22%3E%3C/script%3E%0A%20%20%20%20%3Cscript%20src%3D%22https%3A//cdnjs.cloudflare.com/ajax/libs/Leaflet.awesome-markers/2.0.2/leaflet.awesome-markers.js%22%3E%3C/script%3E%0A%20%20%20%20%3Clink%20rel%3D%22stylesheet%22%20href%3D%22https%3A//cdn.jsdelivr.net/npm/leaflet%401.4.0/dist/leaflet.css%22/%3E%0A%20%20%20%20%3Clink%20rel%3D%22stylesheet%22%20href%3D%22https%3A//maxcdn.bootstrapcdn.com/bootstrap/3.2.0/css/bootstrap.min.css%22/%3E%0A%20%20%20%20%3Clink%20rel%3D%22stylesheet%22%20href%3D%22https%3A//maxcdn.bootstrapcdn.com/bootstrap/3.2.0/css/bootstrap-theme.min.css%22/%3E%0A%20%20%20%20%3Clink%20rel%3D%22stylesheet%22%20href%3D%22https%3A//maxcdn.bootstrapcdn.com/font-awesome/4.6.3/css/font-awesome.min.css%22/%3E%0A%20%20%20%20%3Clink%20rel%3D%22stylesheet%22%20href%3D%22https%3A//cdnjs.cloudflare.com/ajax/libs/Leaflet.awesome-markers/2.0.2/leaflet.awesome-markers.css%22/%3E%0A%20%20%20%20%3Clink%20rel%3D%22stylesheet%22%20href%3D%22https%3A//rawcdn.githack.com/python-visualization/folium/master/folium/templates/leaflet.awesome.rotate.css%22/%3E%0A%20%20%20%20%3Cstyle%3Ehtml%2C%20body%20%7Bwidth%3A%20100%25%3Bheight%3A%20100%25%3Bmargin%3A%200%3Bpadding%3A%200%3B%7D%3C/style%3E%0A%20%20%20%20%3Cstyle%3E%23map%20%7Bposition%3Aabsolute%3Btop%3A0%3Bbottom%3A0%3Bright%3A0%3Bleft%3A0%3B%7D%3C/style%3E%0A%20%20%20%20%0A%20%20%20%20%3Cmeta%20name%3D%22viewport%22%20content%3D%22width%3Ddevice-width%2C%0A%20%20%20%20%20%20%20%20initial-scale%3D1.0%2C%20maximum-scale%3D1.0%2C%20user-scalable%3Dno%22%20/%3E%0A%20%20%20%20%3Cstyle%3E%23map_64df35cb0fe243268d582990f7b5f23d%20%7B%0A%20%20%20%20%20%20%20%20position%3A%20relative%3B%0A%20%20%20%20%20%20%20%20width%3A%20100.0%25%3B%0A%20%20%20%20%20%20%20%20height%3A%20100.0%25%3B%0A%20%20%20%20%20%20%20%20left%3A%200.0%25%3B%0A%20%20%20%20%20%20%20%20top%3A%200.0%25%3B%0A%20%20%20%20%20%20%20%20%7D%0A%20%20%20%20%3C/style%3E%0A%3C/head%3E%0A%3Cbody%3E%20%20%20%20%0A%20%20%20%20%0A%20%20%20%20%3Cdiv%20class%3D%22folium-map%22%20id%3D%22map_64df35cb0fe243268d582990f7b5f23d%22%20%3E%3C/div%3E%0A%3C/body%3E%0A%3Cscript%3E%20%20%20%20%0A%20%20%20%20%0A%20%20%20%20%0A%20%20%20%20%20%20%20%20var%20bounds%20%3D%20null%3B%0A%20%20%20%20%0A%0A%20%20%20%20var%20map_64df35cb0fe243268d582990f7b5f23d%20%3D%20L.map%28%0A%20%20%20%20%20%20%20%20%27map_64df35cb0fe243268d582990f7b5f23d%27%2C%20%7B%0A%20%20%20%20%20%20%20%20center%3A%20%5B37.9376%2C%2023.77285%5D%2C%0A%20%20%20%20%20%20%20%20zoom%3A%2013%2C%0A%20%20%20%20%20%20%20%20maxBounds%3A%20bounds%2C%0A%20%20%20%20%20%20%20%20layers%3A%20%5B%5D%2C%0A%20%20%20%20%20%20%20%20worldCopyJump%3A%20false%2C%0A%20%20%20%20%20%20%20%20crs%3A%20L.CRS.EPSG3857%2C%0A%20%20%20%20%20%20%20%20zoomControl%3A%20true%2C%0A%20%20%20%20%20%20%20%20%7D%29%3B%0A%0A%0A%20%20%20%20%0A%20%20%20%20var%20tile_layer_08a2818d25f941a99df16f6751c36b8e%20%3D%20L.tileLayer%28%0A%20%20%20%20%20%20%20%20%27https%3A//%7Bs%7D.tile.openstreetmap.org/%7Bz%7D/%7Bx%7D/%7By%7D.png%27%2C%0A%20%20%20%20%20%20%20%20%7B%0A%20%20%20%20%20%20%20%20%22attribution%22%3A%20null%2C%0A%20%20%20%20%20%20%20%20%22detectRetina%22%3A%20false%2C%0A%20%20%20%20%20%20%20%20%22maxNativeZoom%22%3A%2018%2C%0A%20%20%20%20%20%20%20%20%22maxZoom%22%3A%2018%2C%0A%20%20%20%20%20%20%20%20%22minZoom%22%3A%200%2C%0A%20%20%20%20%20%20%20%20%22noWrap%22%3A%20false%2C%0A%20%20%20%20%20%20%20%20%22opacity%22%3A%201%2C%0A%20%20%20%20%20%20%20%20%22subdomains%22%3A%20%22abc%22%2C%0A%20%20%20%20%20%20%20%20%22tms%22%3A%20false%0A%7D%29.addTo%28map_64df35cb0fe243268d582990f7b5f23d%29%3B%0A%20%20%20%20%0A%20%20%20%20%20%20%20%20var%20marker_7d57e05c26ce4f1f964f0dff3f6c15b5%20%3D%20L.marker%28%0A%20%20%20%20%20%20%20%20%20%20%20%20%5B37.9155%2C%2023.7834%5D%2C%0A%20%20%20%20%20%20%20%20%20%20%20%20%7B%0A%20%20%20%20%20%20%20%20%20%20%20%20%20%20%20%20icon%3A%20new%20L.Icon.Default%28%29%2C%0A%20%20%20%20%20%20%20%20%20%20%20%20%20%20%20%20%7D%0A%20%20%20%20%20%20%20%20%20%20%20%20%29.addTo%28map_64df35cb0fe243268d582990f7b5f23d%29%3B%0A%20%20%20%20%20%20%20%20%0A%20%20%20%20%0A%0A%20%20%20%20%20%20%20%20%20%20%20%20%20%20%20%20var%20icon_f9a28667db514216bfb521512a273833%20%3D%20L.AwesomeMarkers.icon%28%7B%0A%20%20%20%20%20%20%20%20%20%20%20%20%20%20%20%20%20%20%20%20icon%3A%20%27fas%20fa-car%27%2C%0A%20%20%20%20%20%20%20%20%20%20%20%20%20%20%20%20%20%20%20%20iconColor%3A%20%27white%27%2C%0A%20%20%20%20%20%20%20%20%20%20%20%20%20%20%20%20%20%20%20%20markerColor%3A%20%27pink%27%2C%0A%20%20%20%20%20%20%20%20%20%20%20%20%20%20%20%20%20%20%20%20prefix%3A%20%27fa%27%2C%0A%20%20%20%20%20%20%20%20%20%20%20%20%20%20%20%20%20%20%20%20extraClasses%3A%20%27fa-rotate-0%27%0A%20%20%20%20%20%20%20%20%20%20%20%20%20%20%20%20%20%20%20%20%7D%29%3B%0A%20%20%20%20%20%20%20%20%20%20%20%20%20%20%20%20marker_7d57e05c26ce4f1f964f0dff3f6c15b5.setIcon%28icon_f9a28667db514216bfb521512a273833%29%3B%0A%20%20%20%20%20%20%20%20%20%20%20%20%0A%20%20%20%20%0A%20%20%20%20%20%20%20%20%20%20%20%20var%20popup_a1d7407d73554a6db9ef3ab4224340e0%20%3D%20L.popup%28%7BmaxWidth%3A%20%27100%25%27%0A%20%20%20%20%20%20%20%20%20%20%20%20%0A%20%20%20%20%20%20%20%20%20%20%20%20%7D%29%3B%0A%0A%20%20%20%20%20%20%20%20%20%20%20%20%0A%20%20%20%20%20%20%20%20%20%20%20%20%20%20%20%20var%20html_aa2da312693d4e02bcb03592345e6fbc%20%3D%20%24%28%60%3Cdiv%20id%3D%22html_aa2da312693d4e02bcb03592345e6fbc%22%20style%3D%22width%3A%20100.0%25%3B%20height%3A%20100.0%25%3B%22%3EOriginal%20Starting%20Point%3C/div%3E%60%29%5B0%5D%3B%0A%20%20%20%20%20%20%20%20%20%20%20%20%20%20%20%20popup_a1d7407d73554a6db9ef3ab4224340e0.setContent%28html_aa2da312693d4e02bcb03592345e6fbc%29%3B%0A%20%20%20%20%20%20%20%20%20%20%20%20%0A%0A%20%20%20%20%20%20%20%20%20%20%20%20marker_7d57e05c26ce4f1f964f0dff3f6c15b5.bindPopup%28popup_a1d7407d73554a6db9ef3ab4224340e0%29%0A%20%20%20%20%20%20%20%20%20%20%20%20%3B%0A%0A%20%20%20%20%20%20%20%20%20%20%20%20%0A%20%20%20%20%20%20%20%20%0A%20%20%20%20%0A%20%20%20%20%20%20%20%20marker_7d57e05c26ce4f1f964f0dff3f6c15b5.bindTooltip%28%0A%20%20%20%20%20%20%20%20%20%20%20%20%60%3Cdiv%3E%60%0A%20%20%20%20%20%20%20%20%20%20%20%20%2B%20%60Original%20Starting%20Point%60%20%2B%20%60%3C/div%3E%60%2C%0A%20%20%20%20%20%20%20%20%20%20%20%20%7B%22sticky%22%3A%20true%7D%0A%20%20%20%20%20%20%20%20%29%3B%0A%20%20%20%20%20%20%20%20%0A%20%20%20%20%0A%20%20%20%20%20%20%20%20var%20marker_4ff002ada94b4e0094e5d8f55e31f1ba%20%3D%20L.marker%28%0A%20%20%20%20%20%20%20%20%20%20%20%20%5B37.9597%2C%2023.7623%5D%2C%0A%20%20%20%20%20%20%20%20%20%20%20%20%7B%0A%20%20%20%20%20%20%20%20%20%20%20%20%20%20%20%20icon%3A%20new%20L.Icon.Default%28%29%2C%0A%20%20%20%20%20%20%20%20%20%20%20%20%20%20%20%20%7D%0A%20%20%20%20%20%20%20%20%20%20%20%20%29.addTo%28map_64df35cb0fe243268d582990f7b5f23d%29%3B%0A%20%20%20%20%20%20%20%20%0A%20%20%20%20%0A%0A%20%20%20%20%20%20%20%20%20%20%20%20%20%20%20%20var%20icon_63625df2b0464cf5b0092d99e7c0274a%20%3D%20L.AwesomeMarkers.icon%28%7B%0A%20%20%20%20%20%20%20%20%20%20%20%20%20%20%20%20%20%20%20%20icon%3A%20%27fas%20fa-crosshairs%27%2C%0A%20%20%20%20%20%20%20%20%20%20%20%20%20%20%20%20%20%20%20%20iconColor%3A%20%27white%27%2C%0A%20%20%20%20%20%20%20%20%20%20%20%20%20%20%20%20%20%20%20%20markerColor%3A%20%27pink%27%2C%0A%20%20%20%20%20%20%20%20%20%20%20%20%20%20%20%20%20%20%20%20prefix%3A%20%27fa%27%2C%0A%20%20%20%20%20%20%20%20%20%20%20%20%20%20%20%20%20%20%20%20extraClasses%3A%20%27fa-rotate-0%27%0A%20%20%20%20%20%20%20%20%20%20%20%20%20%20%20%20%20%20%20%20%7D%29%3B%0A%20%20%20%20%20%20%20%20%20%20%20%20%20%20%20%20marker_4ff002ada94b4e0094e5d8f55e31f1ba.setIcon%28icon_63625df2b0464cf5b0092d99e7c0274a%29%3B%0A%20%20%20%20%20%20%20%20%20%20%20%20%0A%20%20%20%20%0A%20%20%20%20%20%20%20%20%20%20%20%20var%20popup_6073266176bd44dc89ba0e26c5d1c375%20%3D%20L.popup%28%7BmaxWidth%3A%20%27100%25%27%0A%20%20%20%20%20%20%20%20%20%20%20%20%0A%20%20%20%20%20%20%20%20%20%20%20%20%7D%29%3B%0A%0A%20%20%20%20%20%20%20%20%20%20%20%20%0A%20%20%20%20%20%20%20%20%20%20%20%20%20%20%20%20var%20html_63ab2a35319d41e29f3a97e704033788%20%3D%20%24%28%60%3Cdiv%20id%3D%22html_63ab2a35319d41e29f3a97e704033788%22%20style%3D%22width%3A%20100.0%25%3B%20height%3A%20100.0%25%3B%22%3EOriginal%20Destination%3C/div%3E%60%29%5B0%5D%3B%0A%20%20%20%20%20%20%20%20%20%20%20%20%20%20%20%20popup_6073266176bd44dc89ba0e26c5d1c375.setContent%28html_63ab2a35319d41e29f3a97e704033788%29%3B%0A%20%20%20%20%20%20%20%20%20%20%20%20%0A%0A%20%20%20%20%20%20%20%20%20%20%20%20marker_4ff002ada94b4e0094e5d8f55e31f1ba.bindPopup%28popup_6073266176bd44dc89ba0e26c5d1c375%29%0A%20%20%20%20%20%20%20%20%20%20%20%20%3B%0A%0A%20%20%20%20%20%20%20%20%20%20%20%20%0A%20%20%20%20%20%20%20%20%0A%20%20%20%20%0A%20%20%20%20%20%20%20%20marker_4ff002ada94b4e0094e5d8f55e31f1ba.bindTooltip%28%0A%20%20%20%20%20%20%20%20%20%20%20%20%60%3Cdiv%3E%60%0A%20%20%20%20%20%20%20%20%20%20%20%20%2B%20%60Original%20Destination%60%20%2B%20%60%3C/div%3E%60%2C%0A%20%20%20%20%20%20%20%20%20%20%20%20%7B%22sticky%22%3A%20true%7D%0A%20%20%20%20%20%20%20%20%29%3B%0A%20%20%20%20%20%20%20%20%0A%20%20%20%20%0A%20%20%20%20%20%20%20%20var%20marker_e65a86f9195349aa8ff09bd766e0b579%20%3D%20L.marker%28%0A%20%20%20%20%20%20%20%20%20%20%20%20%5B37.920931800000005%2C%2023.7648494%5D%2C%0A%20%20%20%20%20%20%20%20%20%20%20%20%7B%0A%20%20%20%20%20%20%20%20%20%20%20%20%20%20%20%20icon%3A%20new%20L.Icon.Default%28%29%2C%0A%20%20%20%20%20%20%20%20%20%20%20%20%20%20%20%20%7D%0A%20%20%20%20%20%20%20%20%20%20%20%20%29.addTo%28map_64df35cb0fe243268d582990f7b5f23d%29%3B%0A%20%20%20%20%20%20%20%20%0A%20%20%20%20%0A%0A%20%20%20%20%20%20%20%20%20%20%20%20%20%20%20%20var%20icon_037f135714b6413aa5ed2c470ea4ec4d%20%3D%20L.AwesomeMarkers.icon%28%7B%0A%20%20%20%20%20%20%20%20%20%20%20%20%20%20%20%20%20%20%20%20icon%3A%20%27fas%20fa-car%27%2C%0A%20%20%20%20%20%20%20%20%20%20%20%20%20%20%20%20%20%20%20%20iconColor%3A%20%27white%27%2C%0A%20%20%20%20%20%20%20%20%20%20%20%20%20%20%20%20%20%20%20%20markerColor%3A%20%27darkblue%27%2C%0A%20%20%20%20%20%20%20%20%20%20%20%20%20%20%20%20%20%20%20%20prefix%3A%20%27fa%27%2C%0A%20%20%20%20%20%20%20%20%20%20%20%20%20%20%20%20%20%20%20%20extraClasses%3A%20%27fa-rotate-0%27%0A%20%20%20%20%20%20%20%20%20%20%20%20%20%20%20%20%20%20%20%20%7D%29%3B%0A%20%20%20%20%20%20%20%20%20%20%20%20%20%20%20%20marker_e65a86f9195349aa8ff09bd766e0b579.setIcon%28icon_037f135714b6413aa5ed2c470ea4ec4d%29%3B%0A%20%20%20%20%20%20%20%20%20%20%20%20%0A%20%20%20%20%0A%20%20%20%20%20%20%20%20%20%20%20%20var%20popup_c1e6297f5dbf45bbbab0748f4723e46e%20%3D%20L.popup%28%7BmaxWidth%3A%20%27100%25%27%0A%20%20%20%20%20%20%20%20%20%20%20%20%0A%20%20%20%20%20%20%20%20%20%20%20%20%7D%29%3B%0A%0A%20%20%20%20%20%20%20%20%20%20%20%20%0A%20%20%20%20%20%20%20%20%20%20%20%20%20%20%20%20var%20html_dbf28ca81e0b4fac85256551cc74fafa%20%3D%20%24%28%60%3Cdiv%20id%3D%22html_dbf28ca81e0b4fac85256551cc74fafa%22%20style%3D%22width%3A%20100.0%25%3B%20height%3A%20100.0%25%3B%22%3EStarting%20Point%3C/div%3E%60%29%5B0%5D%3B%0A%20%20%20%20%20%20%20%20%20%20%20%20%20%20%20%20popup_c1e6297f5dbf45bbbab0748f4723e46e.setContent%28html_dbf28ca81e0b4fac85256551cc74fafa%29%3B%0A%20%20%20%20%20%20%20%20%20%20%20%20%0A%0A%20%20%20%20%20%20%20%20%20%20%20%20marker_e65a86f9195349aa8ff09bd766e0b579.bindPopup%28popup_c1e6297f5dbf45bbbab0748f4723e46e%29%0A%20%20%20%20%20%20%20%20%20%20%20%20%3B%0A%0A%20%20%20%20%20%20%20%20%20%20%20%20%0A%20%20%20%20%20%20%20%20%0A%20%20%20%20%0A%20%20%20%20%20%20%20%20marker_e65a86f9195349aa8ff09bd766e0b579.bindTooltip%28%0A%20%20%20%20%20%20%20%20%20%20%20%20%60%3Cdiv%3E%60%0A%20%20%20%20%20%20%20%20%20%20%20%20%2B%20%60Starting%20Point%60%20%2B%20%60%3C/div%3E%60%2C%0A%20%20%20%20%20%20%20%20%20%20%20%20%7B%22sticky%22%3A%20true%7D%0A%20%20%20%20%20%20%20%20%29%3B%0A%20%20%20%20%20%20%20%20%0A%20%20%20%20%0A%20%20%20%20%20%20%20%20var%20marker_8c24e265dd174843b5807bc7f6926a5a%20%3D%20L.marker%28%0A%20%20%20%20%20%20%20%20%20%20%20%20%5B37.959814834628816%2C%2023.762347204856972%5D%2C%0A%20%20%20%20%20%20%20%20%20%20%20%20%7B%0A%20%20%20%20%20%20%20%20%20%20%20%20%20%20%20%20icon%3A%20new%20L.Icon.Default%28%29%2C%0A%20%20%20%20%20%20%20%20%20%20%20%20%20%20%20%20%7D%0A%20%20%20%20%20%20%20%20%20%20%20%20%29.addTo%28map_64df35cb0fe243268d582990f7b5f23d%29%3B%0A%20%20%20%20%20%20%20%20%0A%20%20%20%20%0A%0A%20%20%20%20%20%20%20%20%20%20%20%20%20%20%20%20var%20icon_d910d11811bc433c9c6577b35a27b3a4%20%3D%20L.AwesomeMarkers.icon%28%7B%0A%20%20%20%20%20%20%20%20%20%20%20%20%20%20%20%20%20%20%20%20icon%3A%20%27fas%20fa-crosshairs%27%2C%0A%20%20%20%20%20%20%20%20%20%20%20%20%20%20%20%20%20%20%20%20iconColor%3A%20%27white%27%2C%0A%20%20%20%20%20%20%20%20%20%20%20%20%20%20%20%20%20%20%20%20markerColor%3A%20%27darkblue%27%2C%0A%20%20%20%20%20%20%20%20%20%20%20%20%20%20%20%20%20%20%20%20prefix%3A%20%27fa%27%2C%0A%20%20%20%20%20%20%20%20%20%20%20%20%20%20%20%20%20%20%20%20extraClasses%3A%20%27fa-rotate-0%27%0A%20%20%20%20%20%20%20%20%20%20%20%20%20%20%20%20%20%20%20%20%7D%29%3B%0A%20%20%20%20%20%20%20%20%20%20%20%20%20%20%20%20marker_8c24e265dd174843b5807bc7f6926a5a.setIcon%28icon_d910d11811bc433c9c6577b35a27b3a4%29%3B%0A%20%20%20%20%20%20%20%20%20%20%20%20%0A%20%20%20%20%0A%20%20%20%20%20%20%20%20%20%20%20%20var%20popup_af65ad5d1b614f9992381a2b2b8e336d%20%3D%20L.popup%28%7BmaxWidth%3A%20%27100%25%27%0A%20%20%20%20%20%20%20%20%20%20%20%20%0A%20%20%20%20%20%20%20%20%20%20%20%20%7D%29%3B%0A%0A%20%20%20%20%20%20%20%20%20%20%20%20%0A%20%20%20%20%20%20%20%20%20%20%20%20%20%20%20%20var%20html_fa18c73a26c24972b6c9d57c0e66b0a1%20%3D%20%24%28%60%3Cdiv%20id%3D%22html_fa18c73a26c24972b6c9d57c0e66b0a1%22%20style%3D%22width%3A%20100.0%25%3B%20height%3A%20100.0%25%3B%22%3EDestination%3C/div%3E%60%29%5B0%5D%3B%0A%20%20%20%20%20%20%20%20%20%20%20%20%20%20%20%20popup_af65ad5d1b614f9992381a2b2b8e336d.setContent%28html_fa18c73a26c24972b6c9d57c0e66b0a1%29%3B%0A%20%20%20%20%20%20%20%20%20%20%20%20%0A%0A%20%20%20%20%20%20%20%20%20%20%20%20marker_8c24e265dd174843b5807bc7f6926a5a.bindPopup%28popup_af65ad5d1b614f9992381a2b2b8e336d%29%0A%20%20%20%20%20%20%20%20%20%20%20%20%3B%0A%0A%20%20%20%20%20%20%20%20%20%20%20%20%0A%20%20%20%20%20%20%20%20%0A%20%20%20%20%0A%20%20%20%20%20%20%20%20marker_8c24e265dd174843b5807bc7f6926a5a.bindTooltip%28%0A%20%20%20%20%20%20%20%20%20%20%20%20%60%3Cdiv%3E%60%0A%20%20%20%20%20%20%20%20%20%20%20%20%2B%20%60Destination%60%20%2B%20%60%3C/div%3E%60%2C%0A%20%20%20%20%20%20%20%20%20%20%20%20%7B%22sticky%22%3A%20true%7D%0A%20%20%20%20%20%20%20%20%29%3B%0A%20%20%20%20%20%20%20%20%0A%20%20%20%20%0A%20%20%20%20%20%20%20%20%20%20%20%20%20%20%20%20var%20poly_line_730a11dc14d24766aff3338e28f9da6f%20%3D%20L.polyline%28%0A%20%20%20%20%20%20%20%20%20%20%20%20%20%20%20%20%20%20%20%20%5B%5B37.920931800000005%2C%2023.7648494%5D%2C%20%5B37.9209318%2C%2023.7648494%5D%2C%20%5B37.9210122%2C%2023.7648736%5D%2C%20%5B37.9218871%2C%2023.7650378%5D%2C%20%5B37.9219591%2C%2023.7645919%5D%2C%20%5B37.9220276%2C%2023.764058%5D%2C%20%5B37.922275%2C%2023.7641013%5D%2C%20%5B37.9222878%2C%2023.7640155%5D%2C%20%5B37.9223144%2C%2023.7639707%5D%2C%20%5B37.922353%2C%2023.7639379%5D%2C%20%5B37.9224396%2C%2023.7639248%5D%2C%20%5B37.9234353%2C%2023.7633129%5D%2C%20%5B37.9237259%2C%2023.7631152%5D%2C%20%5B37.9237471%2C%2023.7631018%5D%2C%20%5B37.9237818%2C%2023.7630797%5D%2C%20%5B37.9237968%2C%2023.7630702%5D%2C%20%5B37.9240172%2C%2023.7629316%5D%2C%20%5B37.9241208%2C%2023.7628708%5D%2C%20%5B37.924373%2C%2023.762716%5D%2C%20%5B37.9251629%2C%2023.7622187%5D%2C%20%5B37.9251956%2C%2023.7621751%5D%2C%20%5B37.9252237%2C%2023.7621302%5D%2C%20%5B37.9253669%2C%2023.7618642%5D%2C%20%5B37.925496%2C%2023.7619045%5D%2C%20%5B37.9263826%2C%2023.7621944%5D%2C%20%5B37.9264053%2C%2023.7622019%5D%2C%20%5B37.9267311%2C%2023.7623106%5D%2C%20%5B37.9269775%2C%2023.7623858%5D%2C%20%5B37.9270294%2C%2023.7624017%5D%2C%20%5B37.9271303%2C%2023.7624265%5D%2C%20%5B37.9272446%2C%2023.7624438%5D%2C%20%5B37.9273158%2C%2023.7624752%5D%2C%20%5B37.9274526%2C%2023.7625185%5D%2C%20%5B37.9275103%2C%2023.7625313%5D%2C%20%5B37.9276049%2C%2023.7625428%5D%2C%20%5B37.9278466%2C%2023.7625426%5D%2C%20%5B37.9280947%2C%2023.7625364%5D%2C%20%5B37.9281761%2C%2023.7625264%5D%2C%20%5B37.9283952%2C%2023.7624665%5D%2C%20%5B37.9288468%2C%2023.7622377%5D%2C%20%5B37.9291915%2C%2023.7620466%5D%2C%20%5B37.9293472%2C%2023.7619928%5D%2C%20%5B37.9294575%2C%2023.7619791%5D%2C%20%5B37.9295274%2C%2023.7619875%5D%2C%20%5B37.9301589%2C%2023.762069%5D%2C%20%5B37.9305079%2C%2023.7622405%5D%2C%20%5B37.9308201%2C%2023.7624617%5D%2C%20%5B37.931306%2C%2023.7627962%5D%2C%20%5B37.9314053%2C%2023.7628022%5D%2C%20%5B37.9315348%2C%2023.7630422%5D%2C%20%5B37.9316541%2C%2023.7631798%5D%2C%20%5B37.931783%2C%2023.763267%5D%2C%20%5B37.9319033%2C%2023.7633024%5D%2C%20%5B37.9319467%2C%2023.763305%5D%2C%20%5B37.9321315%2C%2023.7632958%5D%2C%20%5B37.932305%2C%2023.7632665%5D%2C%20%5B37.9325325%2C%2023.7632193%5D%2C%20%5B37.9326201%2C%2023.7631814%5D%2C%20%5B37.933073%2C%2023.7634726%5D%2C%20%5B37.9331557%2C%2023.7635597%5D%2C%20%5B37.9334861%2C%2023.7640642%5D%2C%20%5B37.9335309%2C%2023.7641217%5D%2C%20%5B37.9336043%2C%2023.7641828%5D%2C%20%5B37.9336999%2C%2023.7642578%5D%2C%20%5B37.9338735%2C%2023.7643288%5D%2C%20%5B37.933975%2C%2023.7643538%5D%2C%20%5B37.9341398%2C%2023.7643826%5D%2C%20%5B37.9341955%2C%2023.76439%5D%2C%20%5B37.9342495%2C%2023.7643917%5D%2C%20%5B37.9344639%2C%2023.7643762%5D%2C%20%5B37.9345552%2C%2023.7643449%5D%2C%20%5B37.9347471%2C%2023.7642051%5D%2C%20%5B37.9348294%2C%2023.7641229%5D%2C%20%5B37.9348931%2C%2023.764066%5D%2C%20%5B37.9349452%2C%2023.7639959%5D%2C%20%5B37.9351385%2C%2023.7637439%5D%2C%20%5B37.9352192%2C%2023.7636854%5D%2C%20%5B37.9353944%2C%2023.7633759%5D%2C%20%5B37.9358884%2C%2023.762494%5D%2C%20%5B37.9363301%2C%2023.7617158%5D%2C%20%5B37.9363957%2C%2023.7616318%5D%2C%20%5B37.9364399%2C%2023.7615912%5D%2C%20%5B37.9364972%2C%2023.7615556%5D%2C%20%5B37.9365548%2C%2023.7615341%5D%2C%20%5B37.9366583%2C%2023.7615125%5D%2C%20%5B37.9366901%2C%2023.7615069%5D%2C%20%5B37.9367361%2C%2023.7615057%5D%2C%20%5B37.9370303%2C%2023.7614979%5D%2C%20%5B37.93742%2C%2023.7614685%5D%2C%20%5B37.9379055%2C%2023.7614289%5D%2C%20%5B37.9379901%2C%2023.7613997%5D%2C%20%5B37.9380753%2C%2023.7613498%5D%2C%20%5B37.9382762%2C%2023.7611753%5D%2C%20%5B37.9383724%2C%2023.7611114%5D%2C%20%5B37.9384476%2C%2023.7610745%5D%2C%20%5B37.9385292%2C%2023.7610521%5D%2C%20%5B37.9385672%2C%2023.7610432%5D%2C%20%5B37.9386649%2C%2023.7610422%5D%2C%20%5B37.9387541%2C%2023.7610578%5D%2C%20%5B37.9388027%2C%2023.7610768%5D%2C%20%5B37.9388998%2C%2023.7611331%5D%2C%20%5B37.9389742%2C%2023.7611894%5D%2C%20%5B37.9390137%2C%2023.7612201%5D%2C%20%5B37.9392682%2C%2023.7614558%5D%2C%20%5B37.9394295%2C%2023.7616053%5D%2C%20%5B37.9395263%2C%2023.7616767%5D%2C%20%5B37.9396119%2C%2023.7617247%5D%2C%20%5B37.9397018%2C%2023.7617618%5D%2C%20%5B37.9398329%2C%2023.7617755%5D%2C%20%5B37.9399416%2C%2023.761766%5D%2C%20%5B37.9400184%2C%2023.7617463%5D%2C%20%5B37.9401314%2C%2023.7617111%5D%2C%20%5B37.9401379%2C%2023.7617083%5D%2C%20%5B37.940229%2C%2023.7616568%5D%2C%20%5B37.9403452%2C%2023.7615773%5D%2C%20%5B37.9405004%2C%2023.7614513%5D%2C%20%5B37.9405165%2C%2023.7614383%5D%2C%20%5B37.9405812%2C%2023.7613794%5D%2C%20%5B37.9407472%2C%2023.7614925%5D%2C%20%5B37.9412053%2C%2023.7617742%5D%2C%20%5B37.9413032%2C%2023.7618343%5D%2C%20%5B37.9413263%2C%2023.7618478%5D%2C%20%5B37.9415162%2C%2023.7619584%5D%2C%20%5B37.9416661%2C%2023.7620499%5D%2C%20%5B37.9417893%2C%2023.7621264%5D%2C%20%5B37.9424519%2C%2023.7625379%5D%2C%20%5B37.9427951%2C%2023.76275%5D%2C%20%5B37.9435664%2C%2023.7632143%5D%2C%20%5B37.9436584%2C%2023.7632844%5D%2C%20%5B37.9437337%2C%2023.7633411%5D%2C%20%5B37.9437901%2C%2023.7633922%5D%2C%20%5B37.9438506%2C%2023.7634595%5D%2C%20%5B37.9439214%2C%2023.7635525%5D%2C%20%5B37.9442566%2C%2023.7639929%5D%2C%20%5B37.9443401%2C%2023.7641027%5D%2C%20%5B37.9450117%2C%2023.764985%5D%2C%20%5B37.945112%2C%2023.7651168%5D%2C%20%5B37.9451594%2C%2023.7651791%5D%2C%20%5B37.9453956%2C%2023.7654895%5D%2C%20%5B37.9454835%2C%2023.765605%5D%2C%20%5B37.9454996%2C%2023.7656262%5D%2C%20%5B37.9456197%2C%2023.7657751%5D%2C%20%5B37.9457301%2C%2023.7659041%5D%2C%20%5B37.9458331%2C%2023.7659999%5D%2C%20%5B37.9459258%2C%2023.7660825%5D%2C%20%5B37.9460933%2C%2023.7662205%5D%2C%20%5B37.9461883%2C%2023.7662972%5D%2C%20%5B37.9462054%2C%2023.7663103%5D%2C%20%5B37.9462247%2C%2023.766325%5D%2C%20%5B37.9462883%2C%2023.7663736%5D%2C%20%5B37.9471502%2C%2023.7670228%5D%2C%20%5B37.9476751%2C%2023.7674133%5D%2C%20%5B37.9481728%2C%2023.7677929%5D%2C%20%5B37.9482912%2C%2023.7678687%5D%2C%20%5B37.9484059%2C%2023.76794%5D%2C%20%5B37.9486995%2C%2023.7680897%5D%2C%20%5B37.9487809%2C%2023.7681273%5D%2C%20%5B37.9489343%2C%2023.7681932%5D%2C%20%5B37.9490655%2C%2023.7682469%5D%2C%20%5B37.9491505%2C%2023.7682724%5D%2C%20%5B37.9492962%2C%2023.7683023%5D%2C%20%5B37.9494517%2C%2023.7683274%5D%2C%20%5B37.9495968%2C%2023.7683393%5D%2C%20%5B37.9498237%2C%2023.7683429%5D%2C%20%5B37.9500753%2C%2023.7683323%5D%2C%20%5B37.9507086%2C%2023.7682578%5D%2C%20%5B37.9509246%2C%2023.7682509%5D%2C%20%5B37.9511098%2C%2023.7682715%5D%2C%20%5B37.95126%2C%2023.768295%5D%2C%20%5B37.9514281%2C%2023.768352%5D%2C%20%5B37.9515949%2C%2023.7684183%5D%2C%20%5B37.9517608%2C%2023.7685116%5D%2C%20%5B37.9519032%2C%2023.7686075%5D%2C%20%5B37.9520772%2C%2023.7687313%5D%2C%20%5B37.952181%2C%2023.768812%5D%2C%20%5B37.9525475%2C%2023.7691152%5D%2C%20%5B37.9525974%2C%2023.7691584%5D%2C%20%5B37.9527574%2C%2023.7693078%5D%2C%20%5B37.9528266%2C%2023.7693844%5D%2C%20%5B37.9529128%2C%2023.7692797%5D%2C%20%5B37.9529763%2C%2023.7691852%5D%2C%20%5B37.9530556%2C%2023.7690735%5D%2C%20%5B37.9531126%2C%2023.7689931%5D%2C%20%5B37.9537691%2C%2023.7681186%5D%2C%20%5B37.9538771%2C%2023.76801%5D%2C%20%5B37.9539722%2C%2023.7679245%5D%2C%20%5B37.9540393%2C%2023.7678706%5D%2C%20%5B37.9541237%2C%2023.767818%5D%2C%20%5B37.9542009%2C%2023.7677656%5D%2C%20%5B37.9545152%2C%2023.767565%5D%2C%20%5B37.955127%2C%2023.767169%5D%2C%20%5B37.9553901%2C%2023.7670048%5D%2C%20%5B37.9557152%2C%2023.7667831%5D%2C%20%5B37.9558923%2C%2023.766678%5D%2C%20%5B37.956165%2C%2023.7665148%5D%2C%20%5B37.9565199%2C%2023.7663068%5D%2C%20%5B37.9566236%2C%2023.7662434%5D%2C%20%5B37.9567149%2C%2023.7661675%5D%2C%20%5B37.9568078%2C%2023.7660726%5D%2C%20%5B37.956884%2C%2023.7659643%5D%2C%20%5B37.9569379%2C%2023.7658407%5D%2C%20%5B37.9570014%2C%2023.7656891%5D%2C%20%5B37.9570587%2C%2023.765514%5D%2C%20%5B37.9571015%2C%2023.7654183%5D%2C%20%5B37.9571685%2C%2023.7652723%5D%2C%20%5B37.957189%2C%2023.7652277%5D%2C%20%5B37.9573514%2C%2023.7648743%5D%2C%20%5B37.9575921%2C%2023.7643724%5D%2C%20%5B37.957661%2C%2023.764222%5D%2C%20%5B37.9578331%2C%2023.7638696%5D%2C%20%5B37.9579204%2C%2023.7636875%5D%2C%20%5B37.9582083%2C%2023.7630872%5D%2C%20%5B37.9582643%2C%2023.7629703%5D%2C%20%5B37.9585758%2C%2023.7623206%5D%2C%20%5B37.9585884%2C%2023.7622115%5D%2C%20%5B37.9586678%2C%2023.7621222%5D%2C%20%5B37.9588352%2C%2023.7619342%5D%2C%20%5B37.9589671%2C%2023.7617736%5D%2C%20%5B37.9590571%2C%2023.7616611%5D%2C%20%5B37.9593111%2C%2023.761367%5D%2C%20%5B37.9595404%2C%2023.7611195%5D%2C%20%5B37.9596499%2C%2023.7610223%5D%2C%20%5B37.9597425%2C%2023.7609731%5D%2C%20%5B37.9601138%2C%2023.7607858%5D%2C%20%5B37.9602362%2C%2023.7607049%5D%2C%20%5B37.9600474%2C%2023.7614417%5D%2C%20%5B37.9599839%2C%2023.7616892%5D%2C%20%5B37.9598911%2C%2023.7620504%5D%2C%20%5B37.959814834628816%2C%2023.762347204856972%5D%5D%2C%0A%20%20%20%20%20%20%20%20%20%20%20%20%20%20%20%20%20%20%20%20%7B%0A%20%20%22bubblingMouseEvents%22%3A%20true%2C%0A%20%20%22color%22%3A%20%22purple%22%2C%0A%20%20%22dashArray%22%3A%20null%2C%0A%20%20%22dashOffset%22%3A%20null%2C%0A%20%20%22fill%22%3A%20false%2C%0A%20%20%22fillColor%22%3A%20%22purple%22%2C%0A%20%20%22fillOpacity%22%3A%200.2%2C%0A%20%20%22fillRule%22%3A%20%22evenodd%22%2C%0A%20%20%22lineCap%22%3A%20%22round%22%2C%0A%20%20%22lineJoin%22%3A%20%22round%22%2C%0A%20%20%22noClip%22%3A%20false%2C%0A%20%20%22opacity%22%3A%201%2C%0A%20%20%22smoothFactor%22%3A%200.3%2C%0A%20%20%22stroke%22%3A%20true%2C%0A%20%20%22weight%22%3A%202.5%0A%7D%0A%20%20%20%20%20%20%20%20%20%20%20%20%20%20%20%20%20%20%20%20%29%0A%20%20%20%20%20%20%20%20%20%20%20%20%20%20%20%20%20%20%20%20.addTo%28map_64df35cb0fe243268d582990f7b5f23d%29%3B%0A%20%20%20%20%20%20%20%20%20%20%20%20%0A%20%20%20%20%0A%20%20%20%20%20%20%20%20poly_line_730a11dc14d24766aff3338e28f9da6f.bindTooltip%28%0A%20%20%20%20%20%20%20%20%20%20%20%20%60%3Cdiv%3E%60%0A%20%20%20%20%20%20%20%20%20%20%20%20%2B%20%60Route%60%20%2B%20%60%3C/div%3E%60%2C%0A%20%20%20%20%20%20%20%20%20%20%20%20%7B%22sticky%22%3A%20true%7D%0A%20%20%20%20%20%20%20%20%29%3B%0A%20%20%20%20%20%20%20%20%0A%3C/script%3E onload=\"this.contentDocument.open();this.contentDocument.write(    decodeURIComponent(this.getAttribute('data-html')));this.contentDocument.close();\" allowfullscreen webkitallowfullscreen mozallowfullscreen></iframe></div></div>"
            ],
            "text/plain": [
              "<folium.folium.Map at 0x7f8bb6e03490>"
            ]
          },
          "metadata": {
            "tags": []
          },
          "execution_count": 14
        }
      ]
    },
    {
      "cell_type": "code",
      "metadata": {
        "id": "iNbbbmV7A2sL"
      },
      "source": [
        "pip freeze > /content/drive/MyDrive/Projects/Python_Projects/Vehicle_Navigation-Sortest_Path/requirements.txt"
      ],
      "execution_count": 24,
      "outputs": []
    }
  ]
}