{
  "nbformat": 4,
  "nbformat_minor": 0,
  "metadata": {
    "colab": {
      "name": "Vehicle_Navigation-Sortest_Path.ipynb",
      "provenance": [],
      "collapsed_sections": []
    },
    "kernelspec": {
      "name": "python3",
      "display_name": "Python 3"
    }
  },
  "cells": [
    {
      "cell_type": "code",
      "metadata": {
        "id": "-qsGXlxaBi60"
      },
      "source": [
        "!pip install osmnx==0.16.2"
      ],
      "execution_count": null,
      "outputs": []
    },
    {
      "cell_type": "code",
      "metadata": {
        "id": "3L6t9psKm8G-"
      },
      "source": [
        "!pip install contextily "
      ],
      "execution_count": null,
      "outputs": []
    },
    {
      "cell_type": "code",
      "metadata": {
        "id": "UqY7ppaQkPVO"
      },
      "source": [
        "#Import necessary libraries.\r\n",
        "import numpy as np\r\n",
        "import math\r\n",
        "import folium\r\n",
        "import contextily as ctx\r\n",
        "import shapely\r\n",
        "import osmnx as ox\r\n",
        "import geopandas as gpd\r\n",
        "from pyproj import Transformer\r\n",
        "from shapely.geometry import  Point, Polygon, LineString\r\n",
        "from matplotlib.ticker import FormatStrFormatter\r\n",
        "from matplotlib.patches import Circle\r\n",
        "from osgeo import ogr\r\n",
        "import matplotlib.pyplot as plt\r\n",
        "%matplotlib inline"
      ],
      "execution_count": 2,
      "outputs": []
    },
    {
      "cell_type": "code",
      "metadata": {
        "id": "jcTZqOEXUgQk"
      },
      "source": [
        "def pointreproject(point_x,point_y,inp_CRS,out_CRS):\r\n",
        "  \r\n",
        "  \"\"\"Converts from (latitude, longitude) to native map projection (x,y) coordinates and vice versa. \r\n",
        "\r\n",
        "    Args:\r\n",
        "        point_x: input CRS coordinate (x or latitude). \r\n",
        "        point_y: input CRS coordinate (y or longitude).\r\n",
        "        inp_CRS: reference system of input coordinates: 'epsg:4326','epsg:3857'...\r\n",
        "        out_CRS: reference system of output coordinates: 'epsg:4326','epsg:3857'...\r\n",
        "\r\n",
        "    Returns:\r\n",
        "        A tuple (latitude, longitude) or (x,y) of the reprojected coordinates of the input point in the output CRS.\r\n",
        "          \r\n",
        "  \"\"\"\r\n",
        "  transformer = Transformer.from_crs(inp_CRS, out_CRS)\r\n",
        "  out_x,out_y = transformer.transform(point_x, point_y)\r\n",
        "  transformer = []\r\n",
        "  \r\n",
        "  return out_x,out_y"
      ],
      "execution_count": 3,
      "outputs": []
    },
    {
      "cell_type": "code",
      "metadata": {
        "id": "Y341N91J18kn"
      },
      "source": [
        "def rgraphfrompoints(starting_point,ending_point):\r\n",
        "\r\n",
        "  \"\"\"Creates a graph, with edges (roads) and nodes (road intersections), based on the two given points.\r\n",
        "     The two given points must be in the WGS84 coordinate reference system and in the form of (latitude, longitude).  \r\n",
        "\r\n",
        "    Args:\r\n",
        "        starting_point: the route's starting point. -> A tuple of (latitude, longitude).\r\n",
        "        ending_point: the route's ending point. -> A tuple of (latitude, longitude).\r\n",
        "\r\n",
        "    Returns:\r\n",
        "        A reprojected (from EPSG:4326 to EPSG:3857) MultiDiGraph from the osmnx package.\r\n",
        "          \r\n",
        "  \"\"\"\r\n",
        "  #Input points geographical coordinates.  \r\n",
        "  lat1 = starting_point[0]\r\n",
        "  lat2 = ending_point[0]\r\n",
        "  long1 = starting_point[1]\r\n",
        "  long2 = ending_point[1]\r\n",
        "  \r\n",
        "  #Find the function's argument values.\r\n",
        "  north = lat2\r\n",
        "  south = lat1\r\n",
        "  if  lat1 > lat2:\r\n",
        "    north = lat1 \r\n",
        "    south = lat2\r\n",
        "\r\n",
        "  east = long2\r\n",
        "  west = long1\r\n",
        "  if  long1 > long2:\r\n",
        "    east = long1 \r\n",
        "    west = long2\r\n",
        "\r\n",
        "  #Construct the road graph.\r\n",
        "  roadgraph = ox.graph_from_bbox(north+0.01, south-0.01, east+0.01, west-0.01, network_type = 'drive', simplify=False )\r\n",
        "\r\n",
        "  #Reproject the road graph.\r\n",
        "  projected_roadgraph = ox.projection.project_graph(roadgraph, to_crs='epsg:3857')\r\n",
        "\r\n",
        "  return projected_roadgraph "
      ],
      "execution_count": 4,
      "outputs": []
    },
    {
      "cell_type": "code",
      "metadata": {
        "id": "U4NxiIXDwwu9"
      },
      "source": [
        "def nearest_edge_node_id(point,roadgraph):\r\n",
        "\r\n",
        "  \"\"\"Finds the nearest network's node id for the given point, which lies in the nearest network edge.\r\n",
        "     Input Point -> Nearest Edge Point -> Nearest Network Node (Route Starting/Ending Point).\r\n",
        "     The given point's coordinates must be in the EPSG:4326.  \r\n",
        "\r\n",
        "    Args:\r\n",
        "        point: The point:(latitude, longitude) that needs to be transfered to the nearest network node..\r\n",
        "        roadgraph: A reprojected (from EPSG:4326 to EPSG:3857) MultiDiGraph from the osmnx package.\r\n",
        "\r\n",
        "    Returns:\r\n",
        "        The nearest network's node id for the given point, which is in the nearest network edge. \r\n",
        "    \r\n",
        "  \"\"\"\r\n",
        "  #Reproject point coordinates from EPSG:4326 to the EPSG:3857.   \r\n",
        "  point_x, point_y = pointreproject(point[0], point[1],'epsg:4326','epsg:3857')\r\n",
        "\r\n",
        "  #Find the nearest road.\r\n",
        "  _, _, _, nearest_road = ox.distance.get_nearest_edge(roadgraph, (point_y,point_x), return_geom=True)\r\n",
        "  \r\n",
        "  #Find all point coordinates that are constructing the specific road.\r\n",
        "  nearest_road_coords = np.array(nearest_road.xy)\r\n",
        "\r\n",
        "  #Calculate all distances between the input point and all the points constructing the nearest road line.\r\n",
        "  e_distances = []\r\n",
        "  for i in range(0,nearest_road_coords[0].size):\r\n",
        "    e_dist = ox.distance.euclidean_dist_vec(point_y,point_x,nearest_road_coords[1][i],nearest_road_coords[0][i])\r\n",
        "    e_distances.append(e_dist)\r\n",
        "  mindist = min(e_distances)\r\n",
        "  for i in range(0,len(e_distances)):\r\n",
        "    if e_distances[i]==mindist: pos=i\r\n",
        "\r\n",
        "  #Nearest edge node coordinates.\r\n",
        "  nearest_edge_node_x = nearest_road_coords[0][pos]  \r\n",
        "  nearest_edge_node_y = nearest_road_coords[1][pos]  \r\n",
        "\r\n",
        "  #Find the nearest network's node id, which has the minimum distance from the road point that has the minimum distance from the input point.\r\n",
        "  node_id= ox.distance.get_nearest_node(roadgraph, (nearest_edge_node_y,nearest_edge_node_x),  method='euclidean')\r\n",
        "\r\n",
        "  return node_id"
      ],
      "execution_count": 5,
      "outputs": []
    },
    {
      "cell_type": "code",
      "metadata": {
        "id": "nasHOUfW_ylu"
      },
      "source": [
        "def pointreproject2edge(point,roadgraph):\r\n",
        "\r\n",
        "  \"\"\"\r\n",
        "    Finds the nearest network's edge for the given point, and reprojects it perpendicularly to its nearest edge.\r\n",
        "    If the orthogonal projection of the point lies outside the nearest edge's nodes, then the point isn't reprojected\r\n",
        "    but it is transferred to the nearest network node instead.\r\n",
        "\r\n",
        "     The given point's coordinates must be in the EPSG:4326, and following the form of (latitude, longitude).  \r\n",
        "\r\n",
        "    Args:\r\n",
        "        point: The point:(latitude, longitude) that needs to be projected to the nearest network edge.\r\n",
        "        roadgraph: A MultiDiGraph (EPSG:3857) from the osmnx package.\r\n",
        "\r\n",
        "    Returns:\r\n",
        "        A tuple (latitude, longitude) of the reprojected coordinates of the input point.\r\n",
        "    \r\n",
        "  \"\"\"\r\n",
        "\r\n",
        "  #Reproject point coordinates from EPSG:4326 to the EPSG:3857.   \r\n",
        "  point_x, point_y = pointreproject(point[0], point[1],'epsg:4326','epsg:3857')\r\n",
        "\r\n",
        "  #Find the nearest road.\r\n",
        "  _, _, _, nearest_road, dist__pp = ox.distance.get_nearest_edge(roadgraph, (point_y,point_x), return_geom=True, return_dist=True)\r\n",
        "\r\n",
        "  #Extract the nearest road coordinates.\r\n",
        "  nearest_road_coords = np.array(nearest_road.xy)\r\n",
        "\r\n",
        "  #Calculate the euclidean distance between the input point and the nearest edge's first node.\r\n",
        "  dist__pv = ox.distance.euclidean_dist_vec(point_y,point_x,nearest_road_coords[1][0],nearest_road_coords[0][0])\r\n",
        "\r\n",
        "  #Calculate the hypotenuse.\r\n",
        "  dist = np.sqrt(dist__pv**2-dist__pp**2)\r\n",
        "\r\n",
        "  #Create the corresponding circle.\r\n",
        "  circle = Point(nearest_road_coords[0][0], nearest_road_coords[1][0]).buffer(dist).boundary\r\n",
        "\r\n",
        "  #Find the circle's intersection point with the given edge.\r\n",
        "  intersection_points = circle.intersection(nearest_road)\r\n",
        "  \r\n",
        "  lies_in = False\r\n",
        "\r\n",
        "  #If the orthogonal projection of the point lies inside the nearest edge's nodes.\r\n",
        "  if type(intersection_points) == shapely.geometry.point.Point:\r\n",
        "    lies_in = True\r\n",
        "    intersection_point_x = intersection_points.x\r\n",
        "    intersection_point_y = intersection_points.y\r\n",
        " \r\n",
        "  #If the orthogonal projection of the point lies outside the nearest edge's nodes.\r\n",
        "  else:\r\n",
        "    gdf = ox.utils_graph.graph_to_gdfs(roadgraph)\r\n",
        "    nodes_gdf = gdf[0].reset_index(drop=True) \r\n",
        "    nearest_node_id = nearest_edge_node_id(point,roadgraph)\r\n",
        "    intersection_point_x = nodes_gdf.loc[(nodes_gdf['osmid']==nearest_node_id)].x.values[0]\r\n",
        "    intersection_point_y = nodes_gdf.loc[(nodes_gdf['osmid']==nearest_node_id)].y.values[0]\r\n",
        "\r\n",
        "  #Find the nearest node id from the intersection point.\r\n",
        "  node_id = ox.distance.get_nearest_node(roadgraph, (intersection_point_y,intersection_point_x),  method='euclidean')\r\n",
        "\r\n",
        "  #Reproject the calculated grid point from epsg:3857 to epsg:4326.\r\n",
        "  point_lat, point_long = pointreproject(intersection_point_x, intersection_point_y,'epsg:3857','epsg:4326')\r\n",
        "\r\n",
        "  return point_lat, point_long, lies_in"
      ],
      "execution_count": 10,
      "outputs": []
    },
    {
      "cell_type": "code",
      "metadata": {
        "id": "cl0gSA_qqSOB"
      },
      "source": [
        "def routeplot(starting_point,ending_point):\r\n",
        "\r\n",
        "  \"\"\"\r\n",
        "     Finds and plots the sortest route -based on Dijkstra's pathfinding algorithm- between the \r\n",
        "     two given points in the given roadgraph.The given points coordinates must be in the EPSG:4326 \r\n",
        "     and they must be following the form of (latitude, longitude). \r\n",
        "\r\n",
        "    Args:\r\n",
        "        starting_point: the route's starting point. -> A tuple of (latitude, longitude).\r\n",
        "        ending_point: the route's ending point. -> A tuple of (latitude, longitude).\r\n",
        "\r\n",
        "    Returns:\r\n",
        "        A Folium map with the given starting and ending points and the shortest path between them. \r\n",
        "    \r\n",
        "  \"\"\"\r\n",
        "\r\n",
        "  #Calculate the roadgraph between the starting and ending points.\r\n",
        "  roadgraph = rgraphfrompoints(starting_point,ending_point)\r\n",
        "\r\n",
        "  #Find the routes starting end ending point which lies inside the given roadgraph.\r\n",
        "  p_lat1,p_long1,lies_in1 = pointreproject2edge(starting_point,roadgraph)\r\n",
        "  p_lat2,p_long2,lies_in2 = pointreproject2edge(ending_point,roadgraph)\r\n",
        "\r\n",
        "  #Find the nearest edge node id.\r\n",
        "  node1_id = nearest_edge_node_id(starting_point,roadgraph)\r\n",
        "  node2_id = nearest_edge_node_id(ending_point,roadgraph)\r\n",
        "  \r\n",
        "  #Calculate the sortest path between the two given nodes.\r\n",
        "  nodeids = ox.shortest_path(roadgraph, node1_id, node2_id)\r\n",
        "\r\n",
        "  #Create the necessary geodataframes.\r\n",
        "  gdf = ox.utils_graph.graph_to_gdfs(roadgraph)\r\n",
        "  nodes_gdf = gdf[0].reset_index(drop=True) \r\n",
        "\r\n",
        "  #Map's center point.\r\n",
        "  center_lat = (starting_point[0]+ending_point[0])/2\r\n",
        "  center_long = (starting_point[1]+ending_point[1])/2\r\n",
        "  center = [center_lat,center_long]\r\n",
        "\r\n",
        "  #Define the map.\r\n",
        "  m = folium.Map(location=center, zoom_start=13, crs='EPSG3857')\r\n",
        "\r\n",
        "  #Plot Original points.\r\n",
        "  folium.Marker((starting_point[0], starting_point[1]), \r\n",
        "                 popup=\"Original Starting Point\", tooltip=\"Original Starting Point\", \r\n",
        "                 icon=folium.Icon(color='pink', icon=\"fas fa-car\", prefix='fa')).add_to(m);\r\n",
        "\r\n",
        "  folium.Marker((ending_point[0], ending_point[1]), \r\n",
        "                 popup=\"Original Destination\", tooltip=\"Original Destination\", \r\n",
        "                 icon=folium.Icon(color='pink', icon=\"fas fa-crosshairs\", prefix='fa')).add_to(m);\r\n",
        "\r\n",
        "  #Plot Starting and Destination points.\r\n",
        "  folium.Marker((p_lat1,p_long1), \r\n",
        "                popup=\"Starting Point\", tooltip=\"Starting Point\", \r\n",
        "                icon=folium.Icon(color='darkblue', icon=\"fas fa-car\", prefix='fa')).add_to(m);\r\n",
        "\r\n",
        "  folium.Marker((p_lat2,p_long2), \r\n",
        "                popup=\"Destination\", tooltip=\"Destination\", \r\n",
        "                icon=folium.Icon(color='darkblue', icon=\"fas fa-crosshairs\", prefix='fa')).add_to(m);\r\n",
        "\r\n",
        "  #Create a list of tuples (locations) for each of route's node coordinates.\r\n",
        "  locations = []\r\n",
        "  locations.append((p_lat1,p_long1)) #Add the starting point to the route.\r\n",
        "  for node_id in nodeids:\r\n",
        "    p_lat = nodes_gdf.loc[(nodes_gdf['osmid']==node_id)].lat.values[0]\r\n",
        "    p_long = nodes_gdf.loc[(nodes_gdf['osmid']==node_id)].lon.values[0]\r\n",
        "    locations.append((p_lat,p_long))\r\n",
        "  locations.append((p_lat2,p_long2)) #Add the ending point to the route.\r\n",
        "\r\n",
        "  #Cut the final route segment if the starting point lies in it.\r\n",
        "  if lies_in1: \r\n",
        "    r1 = pointreproject(locations[1][0],locations[1][1],'epsg:4326','epsg:3857')\r\n",
        "    r2 = pointreproject(locations[2][0],locations[2][1],'epsg:4326','epsg:3857')\r\n",
        "    road1 = LineString([r1,r2])\r\n",
        "    point1_x, point1_y = pointreproject(p_lat1,p_long1,'epsg:4326','epsg:3857')\r\n",
        "    point1 = Point(point1_x, point1_y)\r\n",
        "    if road1.distance(point1) < 1e-8 :del locations[1] \r\n",
        "\r\n",
        "  #Cut the final route segment if the ending point lies in it.\r\n",
        "  if lies_in2: \r\n",
        "    r3 = pointreproject(locations[-3][0],locations[-3][1],'epsg:4326','epsg:3857')\r\n",
        "    r4 = pointreproject(locations[-2][0],locations[-2][1],'epsg:4326','epsg:3857')\r\n",
        "    road2 = LineString([r3,r4])\r\n",
        "    point2_x, point2_y = pointreproject(p_lat2,p_long2,'epsg:4326','epsg:3857')\r\n",
        "    point2 = Point(point2_x, point2_y)\r\n",
        "    if road2.distance(point2) < 1e-8 :del locations[-2] \r\n",
        "\r\n",
        "\r\n",
        "  #Create a folium polyline from the list of \"locations\".\r\n",
        "  route = folium.PolyLine(locations=locations,tooltip='Route', smooth_factor=0.3, color=\"purple\", weight=2.5, opacity=1)\r\n",
        "\r\n",
        "  #Plot route.\r\n",
        "  route.add_to(m);\r\n",
        "\r\n",
        "  #Save map to html file.\r\n",
        "  m.save('route.html') #saves the .html file in the local directory.\r\n",
        "\r\n",
        "  #Plot map.\r\n",
        "  return m"
      ],
      "execution_count": 11,
      "outputs": []
    },
    {
      "cell_type": "code",
      "metadata": {
        "id": "n7xncNpQ5ORC"
      },
      "source": [
        "#Random points to WGS84 between latitude of 37.9000-38.0000 degrees and longitude of 23.7000-23.8000 degrees. (Athens, Attiki, Greece)\r\n",
        "starting_point = (round(37.9+np.random.random()/10,4),round(23.7+np.random.random()/10,4))\r\n",
        "ending_point = (round(37.9+np.random.random()/10,4),round(23.7+np.random.random()/10,4))"
      ],
      "execution_count": 8,
      "outputs": []
    },
    {
      "cell_type": "code",
      "metadata": {
        "colab": {
          "base_uri": "https://localhost:8080/",
          "height": 992
        },
        "id": "HsiG163d4Oxh",
        "outputId": "fb93a0e4-cd3c-4af8-dc3c-4d528a804169"
      },
      "source": [
        "#Plot the route between starting and ending point.\r\n",
        "routeplot(starting_point,ending_point)"
      ],
      "execution_count": 13,
      "outputs": [
        {
          "output_type": "execute_result",
          "data": {
            "text/html": [
              "<div style=\"width:100%;\"><div style=\"position:relative;width:100%;height:0;padding-bottom:60%;\"><span style=\"color:#565656\">Make this Notebook Trusted to load map: File -> Trust Notebook</span><iframe src=\"about:blank\" style=\"position:absolute;width:100%;height:100%;left:0;top:0;border:none !important;\" data-html=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 onload=\"this.contentDocument.open();this.contentDocument.write(atob(this.getAttribute('data-html')));this.contentDocument.close();\" allowfullscreen webkitallowfullscreen mozallowfullscreen></iframe></div></div>"
            ],
            "text/plain": [
              "<folium.folium.Map at 0x7efe768a8a90>"
            ]
          },
          "metadata": {
            "tags": []
          },
          "execution_count": 13
        }
      ]
    }
  ]
}